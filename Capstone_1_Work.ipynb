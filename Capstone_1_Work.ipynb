{
 "cells": [
  {
   "cell_type": "markdown",
   "metadata": {},
   "source": [
    "**Capstone Project 1 - Predicting Automobile Accidents in Montgomery County**\n",
    "\n",
    "Can accident frequency be predicted for automobiles based on particular factors?  In this capstone project the data from Maryland's Montgomery county traffic stop database is used to look at variables that could potentially help predict increased accident likelihood.  \n",
    "\n",
    "-Can accidents be predicted based on the month?\n",
    "-Is there a connection between certain colors of automobiles being in more accidents due to their color, or is it more a popularity of that color leading to more of them to have more accidents? \n",
    "-Can a recommendation be made on certain colors being safer automobiles?\n",
    "-What caused the year 2017 to have more accidents?\n",
    "-Did alcohol affect the amount of accidents with any significance?\n",
    "\n",
    "\n",
    "Future questions - Can accidents be predicted based on the day of the week (weekday, weekend)?\n",
    "Can conclusions be made that driving a certain color car on a certain day of the week is more likely to get in an accident vs other car colors?\n"
   ]
  },
  {
   "cell_type": "markdown",
   "metadata": {},
   "source": [
    "**Import Packages and Read Data**"
   ]
  },
  {
   "cell_type": "code",
   "execution_count": 1,
   "metadata": {
    "_cell_guid": "b1076dfc-b9ad-4769-8c92-a6c4dae69d19",
    "_uuid": "8f2839f25d086af736a60e9eeb907d3b93b6e0e5"
   },
   "outputs": [
    {
     "name": "stdout",
     "output_type": "stream",
     "text": [
      "/kaggle/input/capstone-1/Traffic_Violations.csv\n",
      "/kaggle/input/traffic-violations-2020/Traffic_Violations_2020.csv\n"
     ]
    }
   ],
   "source": [
    "\n",
    "import os\n",
    "for dirname, _, filenames in os.walk('/kaggle/input'):\n",
    "    for filename in filenames:\n",
    "        print(os.path.join(dirname, filename))\n",
    "\n",
    "# Any results you write to the current directory are saved as output."
   ]
  },
  {
   "cell_type": "code",
   "execution_count": null,
   "metadata": {
    "_cell_guid": "",
    "_uuid": ""
   },
   "outputs": [],
   "source": [
    "%%time\n",
    "import numpy as np # linear algebra\n",
    "import pandas as pd # data processing, CSV file I/O (e.g. pd.read_csv)\n",
    "import seaborn as sns\n",
    "import matplotlib\n",
    "import matplotlib.pyplot as plt\n",
    "from scipy import stats\n",
    "from scipy.stats import norm\n",
    "from scipy.stats import t\n",
    "from numpy.random import seed\n",
    "\n",
    "from datetime import datetime\n",
    "from matplotlib.dates import WeekdayLocator\n",
    "from matplotlib.dates import MO, TU, WE, TH, FR, SA, SU #prep for investigating dates\n",
    "\n",
    "import pandas as pd\n",
    "from pandas.io.json import json_normalize \n",
    "data = pd.read_csv(\"../input/traffic-violations-2020/Traffic_Violations_2020.csv\", parse_dates = ['Date Of Stop', 'Time Of Stop'])\n",
    "#This data comes from the dataset with traffic violation information issued in the county of Montgomery, located in Maryland."
   ]
  },
  {
   "cell_type": "markdown",
   "metadata": {},
   "source": [
    "**Clean and Merge Data**\n",
    "This set was fairly clean.  It is crucial to include this step.  There were some missing values to be aware of.  "
   ]
  },
  {
   "cell_type": "markdown",
   "metadata": {},
   "source": [
    "Question:  Can missing data be identified and can we see where there may be missing values?  **Identify included data**"
   ]
  },
  {
   "cell_type": "code",
   "execution_count": null,
   "metadata": {},
   "outputs": [],
   "source": [
    "data.info()\n",
    "#This was done to identify categories with missing information."
   ]
  },
  {
   "cell_type": "markdown",
   "metadata": {},
   "source": [
    "Answer:  1,632,871 is the total number of non-null objects recorded.  Any category without this full amount is missing information.  "
   ]
  },
  {
   "cell_type": "markdown",
   "metadata": {},
   "source": [
    "Question:  What vehicle types are listed in the data set?  What would be a good representation for a general population to sample?"
   ]
  },
  {
   "cell_type": "code",
   "execution_count": null,
   "metadata": {},
   "outputs": [],
   "source": [
    "data.VehicleType.value_counts()\n",
    "##Step to identify all types of vehicles listed in the 'Vehicle Type'\n",
    "##From here it was determined to use only the Automobiles section"
   ]
  },
  {
   "cell_type": "markdown",
   "metadata": {},
   "source": [
    "Answer:  There are over one million automobiles in this data set.  This would be primarily the focus for most consumers and the clients identified for this study.  "
   ]
  },
  {
   "cell_type": "markdown",
   "metadata": {},
   "source": [
    "Question:  How many of each color automobile exists in the data set?  **Filter only Automobiles**"
   ]
  },
  {
   "cell_type": "code",
   "execution_count": null,
   "metadata": {},
   "outputs": [],
   "source": [
    "only_automobiles_color= data.loc[(data['VehicleType'] == '02 - Automobile') , ['Color', 'VehicleType']]\n",
    "#Create a new dataframe of only automobiles and their colors.\n",
    "only_automobiles_color.Color.value_counts()\n",
    "#Count total number of automobiles in each color."
   ]
  },
  {
   "cell_type": "code",
   "execution_count": null,
   "metadata": {},
   "outputs": [],
   "source": [
    "only_automobiles_color_nonull= only_automobiles_color.dropna(axis = 0, subset = ['Color'])\n",
    "#drop nulls from only autos,color that are nan.\n",
    "only_automobiles_color_nonull.Color.value_counts()\n",
    "#Final count on number of automobiles of each color."
   ]
  },
  {
   "cell_type": "code",
   "execution_count": null,
   "metadata": {},
   "outputs": [],
   "source": [
    "only_automobiles_color_nonull.Color.unique()\n",
    "##Identify all colors of autos that exist in the data that have a value"
   ]
  },
  {
   "cell_type": "code",
   "execution_count": null,
   "metadata": {},
   "outputs": [],
   "source": []
  },
  {
   "cell_type": "markdown",
   "metadata": {},
   "source": [
    "Question:  When comparing the percentage of the represented colors for all vehicles to represented colors for only automobiles, are they similar enough to give an accurate assessment for what this study is looking at to use only the automobiles as the sample dataset?"
   ]
  },
  {
   "cell_type": "code",
   "execution_count": null,
   "metadata": {},
   "outputs": [],
   "source": [
    "(data['Color'].value_counts()/data['Color'].count())*100\n",
    "##Find the percentages of all 'VehicleTypes' in each color out of all vehicles."
   ]
  },
  {
   "cell_type": "code",
   "execution_count": null,
   "metadata": {},
   "outputs": [],
   "source": [
    "((only_automobiles_color['Color'].value_counts()/only_automobiles_color['Color'].count())*100\n",
    ")\n",
    "##Find the percentages of each color of automobile out of the total automobiles."
   ]
  },
  {
   "cell_type": "markdown",
   "metadata": {},
   "source": [
    "Answer:   The percentage of the represented colors for all vehicles vs. represented colors for only automobiles have similarity to give an accurate assessment for what this study is looking at to use only the automobiles as the sample dataset."
   ]
  },
  {
   "cell_type": "code",
   "execution_count": null,
   "metadata": {},
   "outputs": [],
   "source": []
  },
  {
   "cell_type": "markdown",
   "metadata": {},
   "source": [
    "Question:  What is noticed in the number of automobiles in accidents compared to those not in accidents?  "
   ]
  },
  {
   "cell_type": "code",
   "execution_count": null,
   "metadata": {},
   "outputs": [],
   "source": [
    "final_color_accident = data.loc[(data['VehicleType'] == '02 - Automobile') & (data['Accident'] == 'Yes'), ['Color', 'VehicleType', 'Accident']]\n",
    "##final set of colors, automobiles, that were in an accident\n",
    "final_color_accident_no_null = final_color_accident.dropna(axis = 0, subset = ['Color'])\n",
    "#drop any rows with a nan value for color\n",
    "final_color_accident_no_null.Color.value_counts()\n",
    "##Final count on number of automobiles of each color in accidents."
   ]
  },
  {
   "cell_type": "code",
   "execution_count": null,
   "metadata": {},
   "outputs": [],
   "source": [
    "final_color_no_accident = data.loc[(data['VehicleType'] == '02 - Automobile') & (data['Accident'] == 'No'), ['Color', 'VehicleType', 'Accident']]\n",
    "#final set of colors, automobiles, that were NOT in an accident\n",
    "final_color_no_accident_no_null = final_color_no_accident.dropna(axis = 0, subset = ['Color'])\n",
    "#drop any rows with a nan value for color\n",
    "final_color_no_accident_no_null.Color.value_counts()\n",
    "##Final count on number of automobiles of each color not in accidents."
   ]
  },
  {
   "cell_type": "markdown",
   "metadata": {},
   "source": [
    "Answer:  **Looking now at only Automobiles in accidents and not in accidents.**\n",
    "There is quite a difference between the number of automobiles in accidents versus those not.  Also interesting to note how many more vehicles of certain colors exist in this sample and then consider if this affects the outcomes of those having higher accident rates."
   ]
  },
  {
   "cell_type": "markdown",
   "metadata": {},
   "source": [
    "Question:  Does the percentage of those more popular colors show a higher likelihood to be in an accident?"
   ]
  },
  {
   "cell_type": "markdown",
   "metadata": {},
   "source": [
    "The chosen dataset of only the Automobiles from the database of vehicles that were stopped in Montgomery county.  It is not surprising that the most popular colors are black, silver, white, gray, red, and blue.  It is a consideration if drawing a conclusion that black cars get in more accidents than brown for example.  Therefore, there was a need to look at the percentage of accidents of a color, out of the total vehicles of only that color."
   ]
  },
  {
   "cell_type": "code",
   "execution_count": null,
   "metadata": {},
   "outputs": [],
   "source": [
    "final_color_accident_no_null['Color'].value_counts().divide(only_automobiles_color_nonull['Color'].value_counts())*100"
   ]
  },
  {
   "cell_type": "code",
   "execution_count": null,
   "metadata": {},
   "outputs": [],
   "source": [
    "autos_in_accidents = (final_color_accident_no_null['Color'].value_counts()/only_automobiles_color_nonull['Color'].value_counts())*100\n",
    "autos_in_accidents\n",
    "#Percent of autos of each color in an accident out of total automobiles of each color.  "
   ]
  },
  {
   "cell_type": "code",
   "execution_count": null,
   "metadata": {},
   "outputs": [],
   "source": [
    "autos_not_in_accidents = (final_color_no_accident_no_null['Color'].value_counts()/only_automobiles_color['Color'].value_counts())*100\n",
    "autos_not_in_accidents\n",
    "#Percent of autos of each color NOT in an accident out of total automobiles of each color."
   ]
  },
  {
   "cell_type": "markdown",
   "metadata": {},
   "source": [
    "Answer:  According to the results, COPPER is the least likely to have been in an accident through the span in this sample, with multicolor being the most likely.  This raises a flag to ask questions;  What colors are in the category of MULTICOLOR?  Why might COPPER be such an outlier?"
   ]
  },
  {
   "cell_type": "code",
   "execution_count": null,
   "metadata": {},
   "outputs": [],
   "source": []
  },
  {
   "cell_type": "markdown",
   "metadata": {},
   "source": [
    "**Visualize Data**"
   ]
  },
  {
   "cell_type": "markdown",
   "metadata": {},
   "source": [
    "Question:  When looking at automobile stops broken by color, are more vehicles in accidents compared to those not in accidents across the board or vice versa?"
   ]
  },
  {
   "cell_type": "code",
   "execution_count": null,
   "metadata": {},
   "outputs": [],
   "source": [
    "bar_labels = ['BLACK', 'WHITE', 'SILVER', 'GRAY', 'RED', 'GREEN', 'BLUE',\n",
    "        'GREEN, DK', 'BEIGE', 'YELLOW', 'MAROON', 'BROWN', 'BLUE, LIGHT',\n",
    "        'TAN', 'GOLD', 'BLUE, DARK', 'BRONZE', 'ORANGE', 'GREEN, LGT',\n",
    "        'COPPER', 'PURPLE', 'CREAM', 'MULTICOLOR', 'PINK', 'CHROME',\n",
    "        'CAMOUFLAGE']\n",
    "#identifying all colors that are to be represented"
   ]
  },
  {
   "cell_type": "code",
   "execution_count": null,
   "metadata": {},
   "outputs": [],
   "source": [
    "plt3 = autos_not_in_accidents.plot.barh(label ='Autos Not In Accidents', color='green')\n",
    "plt3 = autos_in_accidents.plot.barh(label ='Autos In Accidents', color='blue')\n",
    "\n",
    "plt3.set_xlabel('Percent')\n",
    "plt3.set_ylabel('Color')\n",
    "plt3.set_title('Automobile Accidents')\n",
    "plt3.legend(loc='best')\n",
    "#Visualizing the difference between Autos involved in accidents vs. those not."
   ]
  },
  {
   "cell_type": "code",
   "execution_count": null,
   "metadata": {},
   "outputs": [],
   "source": [
    "plt1 = autos_in_accidents.plot.barh(color='blue')\n",
    "plt1.set_xlabel('Percent')\n",
    "plt1.set_ylabel('Color')\n",
    "plt1.set_title('Automobiles in Accidents')\n",
    "#visualizing more accurately the percentage of Automobiles in Accidents.  "
   ]
  },
  {
   "cell_type": "code",
   "execution_count": null,
   "metadata": {},
   "outputs": [],
   "source": [
    "plt2 = autos_not_in_accidents.plot.barh(color='green')\n",
    "plt2.set_xlabel('Percent')\n",
    "plt2.set_ylabel('Color')\n",
    "plt2.set_title('Automobiles Not in Accidents')\n",
    "#visualizing more accurately the percentage of Automobiles Not in Accidents.  "
   ]
  },
  {
   "cell_type": "raw",
   "metadata": {},
   "source": [
    "Answer:  Visually looking at the difference between those in accidents vs. not in accidents tells overall most vehicle stops are not accident related across all colors.  "
   ]
  },
  {
   "cell_type": "code",
   "execution_count": null,
   "metadata": {},
   "outputs": [],
   "source": []
  },
  {
   "cell_type": "code",
   "execution_count": null,
   "metadata": {},
   "outputs": [],
   "source": []
  },
  {
   "cell_type": "markdown",
   "metadata": {},
   "source": [
    "Question:  **Breakdown the data by the dates of the stop.**\n",
    "This is where we begin to see if not only color can help predict an automobiles chance of being in an accident.  Are certain months more prone to have accidents?  Further looking to see if certain years had more accidents?  Can a cause for this spike be identified and is it possible it will occur again?  On the reverse, if certain year had less accidents, can this cause be identified so that perhaps we can reduce accidents annually?"
   ]
  },
  {
   "cell_type": "code",
   "execution_count": null,
   "metadata": {},
   "outputs": [],
   "source": [
    "data.groupby(by=data['Date Of Stop'].dt.date).count()\n",
    "#Group data by day of the stop"
   ]
  },
  {
   "cell_type": "code",
   "execution_count": null,
   "metadata": {},
   "outputs": [],
   "source": [
    "auto_accidents_by_date = data[(data['VehicleType'] == '02 - Automobile')& (data['Accident'] == 'Yes')].groupby(by=data['Date Of Stop']).size()\n",
    "#Identify sum of stops for each day."
   ]
  },
  {
   "cell_type": "code",
   "execution_count": null,
   "metadata": {},
   "outputs": [],
   "source": [
    "data['year'] = data['Date Of Stop'].dt.year\n",
    "#Creating new column, year for stops\n",
    "data['month'] = data['Date Of Stop'].dt.month\n",
    "#Creating new column, month for stops"
   ]
  },
  {
   "cell_type": "code",
   "execution_count": null,
   "metadata": {},
   "outputs": [],
   "source": [
    "data[data['year']== 2012]['month'].value_counts()\n",
    "#View the filter frame based on year if desired"
   ]
  },
  {
   "cell_type": "markdown",
   "metadata": {},
   "source": [
    "**Now looking at periods of the year that may have more frequent accidents overall.  To begin with, I created visuals to look at years as a whole, then by month. **"
   ]
  },
  {
   "cell_type": "code",
   "execution_count": null,
   "metadata": {},
   "outputs": [],
   "source": [
    "df_accident = data[(data['Accident'] == 'Yes')]"
   ]
  },
  {
   "cell_type": "code",
   "execution_count": null,
   "metadata": {},
   "outputs": [],
   "source": [
    "#dataframe showing all 7 years with monthly sums.\n",
    "###HOW TO MAKE THIS ONLY ACCIDENT STOPS, (data['Accident'] == 'Yes')\n",
    "\n",
    "pd.set_option('display.max_rows',100)\n",
    "year_month_count = df_accident['Date Of Stop'].groupby([df_accident['Date Of Stop'].rename('Year').dt.year, df_accident['Date Of Stop'].rename('Month').dt.month]).agg({'count'})\n",
    "year_month_count"
   ]
  },
  {
   "cell_type": "code",
   "execution_count": null,
   "metadata": {},
   "outputs": [],
   "source": [
    "year_month_count.columns"
   ]
  },
  {
   "cell_type": "code",
   "execution_count": null,
   "metadata": {},
   "outputs": [],
   "source": [
    "g = sns.catplot(x=\"month\",hue = 'month',\n",
    "              col=\"year\",\n",
    "             data=data, kind=\"count\",\n",
    "           height=6, aspect=.7);\n",
    "#View all years and month sums in one visual."
   ]
  },
  {
   "cell_type": "markdown",
   "metadata": {},
   "source": [
    "* https://seaborn.pydata.org/generated/seaborn.countplot.html\n",
    "    https://seaborn.pydata.org/generated/seaborn.barplot.html"
   ]
  },
  {
   "cell_type": "markdown",
   "metadata": {},
   "source": [
    "**##Curiousity at particular months in each year that appear to have the highest numbers. What happened during this time to cause this?  Number of cars on the road, gas prices, weather. **"
   ]
  },
  {
   "cell_type": "code",
   "execution_count": null,
   "metadata": {},
   "outputs": [],
   "source": [
    "monthly_sum = auto_accidents_by_date.resample('M').sum()\n",
    "yearly_sum = auto_accidents_by_date.resample('Y').sum()\n",
    "#Create a sum variable to use for line graph"
   ]
  },
  {
   "cell_type": "code",
   "execution_count": null,
   "metadata": {},
   "outputs": [],
   "source": [
    "yearly_sum"
   ]
  },
  {
   "cell_type": "code",
   "execution_count": null,
   "metadata": {},
   "outputs": [],
   "source": [
    "plt4 = monthly_sum.plot(figsize=(30,10), label = 'Monthy Sum', color = 'red')\n",
    "plt4.set_xlabel('Date Of Accident')\n",
    "plt4.set_ylabel('Number of Automobile Accidents')\n",
    "plt4.set_title('Automobile Accidents')\n",
    "\n",
    "plt4 = yearly_sum.plot(figsize=(30,10), label = 'Yearly Sum', color = 'blue')\n",
    "plt4.set_xlabel('Date Of Accident')\n",
    "plt4.set_ylabel('Number of Automobile Accidents')\n",
    "plt4.set_title('Automobile Accidents')\n",
    "\n",
    "plt4 = auto_accidents_by_date.plot(figsize=(30,10), label = 'Daily Sum',  color = 'black')\n",
    "plt4.set_xlabel('Date Of Accident')\n",
    "plt4.set_ylabel('Number of Automobile Accidents')\n",
    "plt4.set_title('Automobile Accidents')\n",
    "plt4.legend(loc='best')\n",
    "#Line graphs to see a visual for any spikes or drops."
   ]
  },
  {
   "cell_type": "markdown",
   "metadata": {},
   "source": [
    "**##Interesting that the yearly sum appears to spike in 2017.  Curiousity as to what may have caused this.  Need to investigate the weather patterns potentially affecting it.**"
   ]
  },
  {
   "cell_type": "code",
   "execution_count": null,
   "metadata": {},
   "outputs": [],
   "source": [
    "year_month_count.unstack(level=0)\n",
    "#Easy viewing comparison on total accidents each year.  Consider reuploading the csv file with dates through current, but only want to include through 2019, December."
   ]
  },
  {
   "cell_type": "markdown",
   "metadata": {},
   "source": [
    "Answer:  There is a spike in 2017 and a low in 2012.  Several months in 2012 are low compared to all months.  September, October, and December of 2016 are significantly higher than most months recorded.  Time to consider what causes this. Are there less vehicles on the road due to weather, the economy, politics, etc.?  Now to identify if these are event that could occcur again and be predicted, leading to potentially reducing annual and monthly accidents.  \n"
   ]
  },
  {
   "cell_type": "code",
   "execution_count": null,
   "metadata": {},
   "outputs": [],
   "source": []
  },
  {
   "cell_type": "markdown",
   "metadata": {},
   "source": [
    "> Question:  What was the distribution for the number of automobile stops that were considered accidents each day over the entire span?"
   ]
  },
  {
   "cell_type": "code",
   "execution_count": null,
   "metadata": {},
   "outputs": [],
   "source": [
    "\n",
    "auto_accidents_by_date.describe()"
   ]
  },
  {
   "cell_type": "markdown",
   "metadata": {},
   "source": [
    "Answer:  Above shows the maximum number of accidents in one day through the years was 56.  The minimum being 1.  The average, mean, per day over all years was about 12 accidents."
   ]
  },
  {
   "cell_type": "code",
   "execution_count": null,
   "metadata": {},
   "outputs": [],
   "source": []
  },
  {
   "cell_type": "markdown",
   "metadata": {},
   "source": [
    "Question:  What was the distribution for the number of automobile stops that were considered accidents each month over the entire span?"
   ]
  },
  {
   "cell_type": "code",
   "execution_count": null,
   "metadata": {},
   "outputs": [],
   "source": [
    "year_month_count.describe()"
   ]
  },
  {
   "cell_type": "markdown",
   "metadata": {},
   "source": [
    "Answer:  Above shows the maximum number of accidents in one year through the years 22,601.  The minimum being 7,372.  The average, mean, per year over all years was about 16,932 accidents."
   ]
  },
  {
   "cell_type": "code",
   "execution_count": null,
   "metadata": {},
   "outputs": [],
   "source": []
  },
  {
   "cell_type": "markdown",
   "metadata": {},
   "source": [
    "**Find Correlations**\n",
    "Investigating relationships between the variables to understand how and if there are influencers.  There are interesting distributions related to the Automobile accidents.  This section is where the testing happened two of the hypotheses that were in mind during this study.  "
   ]
  },
  {
   "cell_type": "markdown",
   "metadata": {},
   "source": [
    "**Null Hypothesis:**\n",
    "There is no statistical significance in the likelihood of an Automobile getting into an accident related to color.\n",
    "\n",
    "**Alternative Hypothesis:**\n",
    "Certain colors of Automobiles show a higher likelihood for getting in an accident."
   ]
  },
  {
   "cell_type": "code",
   "execution_count": null,
   "metadata": {},
   "outputs": [],
   "source": [
    "contingency_table = pd.crosstab(data['Color'], data['Accident'])\n",
    "print('contingency_table :-\\n', contingency_table)"
   ]
  },
  {
   "cell_type": "code",
   "execution_count": null,
   "metadata": {},
   "outputs": [],
   "source": [
    "Observed_Values = contingency_table.values\n",
    "print(\"Observed Values :-\\n\",Observed_Values)\n"
   ]
  },
  {
   "cell_type": "code",
   "execution_count": null,
   "metadata": {},
   "outputs": [],
   "source": [
    "b=stats.chi2_contingency(contingency_table)\n",
    "Expected_Values = b[3]\n",
    "print(\"Expected Values :-\\n\",Expected_Values)"
   ]
  },
  {
   "cell_type": "code",
   "execution_count": null,
   "metadata": {},
   "outputs": [],
   "source": [
    "no_of_rows=len(contingency_table.iloc[0:2,0])\n",
    "no_of_columns=len(contingency_table.iloc[0,0:2])\n",
    "ddof=(no_of_rows-1)*(no_of_columns-1)\n",
    "print(\"Degree of Freedom:-\",ddof)\n",
    "alpha = 0.05"
   ]
  },
  {
   "cell_type": "code",
   "execution_count": null,
   "metadata": {},
   "outputs": [],
   "source": [
    "from scipy.stats import chi2\n",
    "chi_square=sum([(o-e)**2./e for o,e in zip(Observed_Values,Expected_Values)])\n",
    "chi_square_statistic=chi_square[0]+chi_square[1]\n",
    "print(\"chi-square statistic:-\",chi_square_statistic)"
   ]
  },
  {
   "cell_type": "code",
   "execution_count": null,
   "metadata": {},
   "outputs": [],
   "source": [
    "critical_value=chi2.ppf(q=1-alpha,df=ddof)\n",
    "print('critical_value:',critical_value)"
   ]
  },
  {
   "cell_type": "code",
   "execution_count": null,
   "metadata": {},
   "outputs": [],
   "source": [
    "p_value=1-chi2.cdf(x=chi_square_statistic,df=ddof)\n",
    "print('p-value:',p_value)"
   ]
  },
  {
   "cell_type": "code",
   "execution_count": null,
   "metadata": {},
   "outputs": [],
   "source": [
    "print('Significance level: ',alpha)\n",
    "print('Degree of Freedom: ',ddof)\n",
    "print('chi-square statistic:',chi_square_statistic)\n",
    "print('critical_value:',critical_value)\n",
    "print('p-value:',p_value)"
   ]
  },
  {
   "cell_type": "code",
   "execution_count": null,
   "metadata": {},
   "outputs": [],
   "source": [
    "if chi_square_statistic>=critical_value:\n",
    "    print(\"Reject H0,There is a relationship between 2 categorical variables\")\n",
    "else:\n",
    "    print(\"Retain H0,There is no relationship between 2 categorical variables\")\n",
    "    \n",
    "if p_value<=alpha:\n",
    "    print(\"Reject H0,There is a relationship between 2 categorical variables\")\n",
    "else:\n",
    "    print(\"Retain H0,There is no relationship between 2 categorical variables\")"
   ]
  },
  {
   "cell_type": "markdown",
   "metadata": {},
   "source": [
    "Based on the testing, the Null Hypothesis is rejected. Therefore taking the Alternative Hypothesis certain colors of Automobiles show a higher likelihood for getting in an accident.\n"
   ]
  },
  {
   "cell_type": "code",
   "execution_count": null,
   "metadata": {},
   "outputs": [],
   "source": []
  },
  {
   "cell_type": "markdown",
   "metadata": {},
   "source": [
    "**Null Hypothesis:  **\n",
    "There is no statistical significance in the likelihood of an Automobile getting into an accident related to the month.\n",
    "\n",
    "**Alternative Hypothesis:**\n",
    "Certain months of the year show a greater or reduced likelihood for an Automobile to get into an accident. "
   ]
  },
  {
   "cell_type": "code",
   "execution_count": null,
   "metadata": {},
   "outputs": [],
   "source": [
    "hyp_test = year_month_count.reset_index()"
   ]
  },
  {
   "cell_type": "code",
   "execution_count": null,
   "metadata": {},
   "outputs": [],
   "source": [
    "hyp_test[['Month', 'count']].describe()\n",
    "ttest,pval = stats.ttest_rel(hyp_test['Month'], hyp_test['count'])\n",
    "\n",
    "#df[['bp_before','bp_after']].describe()\n",
    "#ttest,pval = stats.ttest_rel(df['bp_before'], df['bp_after'])\n",
    "print(pval)\n",
    "\n",
    "if pval<0.05:\n",
    "    print(\"reject null hypothesis\")\n",
    "else:\n",
    "    print(\"accept null hypothesis\")"
   ]
  },
  {
   "cell_type": "markdown",
   "metadata": {},
   "source": [
    "The test shows to reject the null hypothesis.  Therefore certain months of the year do show a greater or reduced likelihood for an Automobile to get in an accident.  "
   ]
  },
  {
   "cell_type": "code",
   "execution_count": null,
   "metadata": {},
   "outputs": [],
   "source": []
  },
  {
   "cell_type": "code",
   "execution_count": null,
   "metadata": {},
   "outputs": [],
   "source": []
  },
  {
   "cell_type": "code",
   "execution_count": null,
   "metadata": {},
   "outputs": [],
   "source": []
  },
  {
   "cell_type": "code",
   "execution_count": null,
   "metadata": {},
   "outputs": [],
   "source": []
  },
  {
   "cell_type": "code",
   "execution_count": null,
   "metadata": {},
   "outputs": [],
   "source": []
  },
  {
   "cell_type": "code",
   "execution_count": null,
   "metadata": {},
   "outputs": [],
   "source": []
  },
  {
   "cell_type": "markdown",
   "metadata": {},
   "source": [
    "**Below are studies to look at classification techniques common in Machine Learning.  It is interesting to look at what a decision tree will show, in addition to a binary linear regression and heat map.  **"
   ]
  },
  {
   "cell_type": "code",
   "execution_count": null,
   "metadata": {},
   "outputs": [],
   "source": [
    "categorical_values= data.loc[(data['VehicleType'] == '02 - Automobile') , ['Color', 'Alcohol', 'Race', 'Gender', 'Accident']]"
   ]
  },
  {
   "cell_type": "markdown",
   "metadata": {},
   "source": [
    "https://www.datacamp.com/community/tutorials/understanding-logistic-regression-python"
   ]
  },
  {
   "cell_type": "code",
   "execution_count": null,
   "metadata": {},
   "outputs": [],
   "source": [
    "#https://www.datacamp.com/community/tutorials/decision-tree-classification-python\n",
    "from sklearn import datasets\n",
    "from sklearn import svm\n",
    "from sklearn.tree import DecisionTreeClassifier # Import Decision Tree Classifier\n",
    "from sklearn.model_selection import train_test_split # Import train_test_split function\n",
    "from sklearn import metrics #Import scikit-learn metrics module for accuracy calculation\n"
   ]
  },
  {
   "cell_type": "code",
   "execution_count": null,
   "metadata": {},
   "outputs": [],
   "source": [
    "#split dataset in features and target variable\n",
    "feature_cols = ['Color', 'Alcohol', 'Race', 'Gender']\n",
    "X = categorical_values[feature_cols]\n",
    "y = categorical_values.Accident"
   ]
  },
  {
   "cell_type": "code",
   "execution_count": null,
   "metadata": {},
   "outputs": [],
   "source": [
    "categorical_values= data.loc[(data['VehicleType'] == '02 - Automobile') , ['Color', 'Alcohol', 'Race', 'Gender', 'Accident']]\n",
    "categorical_values['Accident'].unique()"
   ]
  },
  {
   "cell_type": "code",
   "execution_count": null,
   "metadata": {},
   "outputs": [],
   "source": [
    "#https://www.datacamp.com/community/tutorials/understanding-logistic-regression-python\n",
    "\n",
    "\n",
    "#your old value(string) and value is your new value(integer).\n",
    "Accident = {'Yes': 1, 'No': 0}\n",
    "#Assign these different key-value pair from above dictiionary to your table\n",
    "categorical_values.Accident = [Accident[item] for item in categorical_values.Accident]\n",
    "\n",
    "\n",
    "##https://www.tutorialspoint.com/replacing-strings-with-numbers-in-python-for-data-analysis"
   ]
  },
  {
   "cell_type": "code",
   "execution_count": null,
   "metadata": {},
   "outputs": [],
   "source": [
    "categorical_values = categorical_values.dropna()\n",
    "categorical_values.count()\n",
    "categorical_values#split dataset in features and target variable\n",
    "categorical_values['Accident'].unique()"
   ]
  },
  {
   "cell_type": "code",
   "execution_count": null,
   "metadata": {},
   "outputs": [],
   "source": [
    "#https://www.geeksforgeeks.org/ml-label-encoding-of-datasets-in-python/\n",
    "# Import label encoder\n",
    "from sklearn import preprocessing"
   ]
  },
  {
   "cell_type": "code",
   "execution_count": null,
   "metadata": {},
   "outputs": [],
   "source": [
    "# label_encoder object knows how to understand word labels. \n",
    "label_encoder = preprocessing.LabelEncoder() \n",
    "\n",
    "# categorical_values['Color'].unique()\n",
    "# categorical_values['Color'].isnull().sum()\n",
    "# Encode labels in column \n",
    "categorical_values['Color']= label_encoder.fit_transform(categorical_values['Color']) \n",
    "categorical_values['Alcohol']= label_encoder.fit_transform(categorical_values['Alcohol']) \n",
    "categorical_values['Race']= label_encoder.fit_transform(categorical_values['Race']) \n",
    "categorical_values['Gender']= label_encoder.fit_transform(categorical_values['Gender']) "
   ]
  },
  {
   "cell_type": "code",
   "execution_count": null,
   "metadata": {},
   "outputs": [],
   "source": [
    "#split dataset in features and target variable\n",
    "feature_cols = ['Color', 'Alcohol', 'Race', 'Gender']\n",
    "X = categorical_values[feature_cols]\n",
    "y = categorical_values.Accident"
   ]
  },
  {
   "cell_type": "code",
   "execution_count": null,
   "metadata": {},
   "outputs": [],
   "source": [
    "from sklearn import datasets\n",
    "from sklearn import svm\n",
    "# split X and y into training and testing sets\n",
    "from sklearn.model_selection import train_test_split\n",
    "X_train,X_test,y_train,y_test=train_test_split(X,y,test_size=0.25,random_state=0)\n",
    "#Dataset is broken into two parts in a ratio of 75:25. \n",
    "#75% data will be used for model training and 25% for model testing."
   ]
  },
  {
   "cell_type": "code",
   "execution_count": null,
   "metadata": {},
   "outputs": [],
   "source": [
    "X_train.size"
   ]
  },
  {
   "cell_type": "code",
   "execution_count": null,
   "metadata": {},
   "outputs": [],
   "source": [
    "X_test.size"
   ]
  },
  {
   "cell_type": "code",
   "execution_count": null,
   "metadata": {},
   "outputs": [],
   "source": [
    "y_train.size"
   ]
  },
  {
   "cell_type": "code",
   "execution_count": null,
   "metadata": {},
   "outputs": [],
   "source": [
    "y_test.size"
   ]
  },
  {
   "cell_type": "code",
   "execution_count": null,
   "metadata": {},
   "outputs": [],
   "source": [
    "# import the class\n",
    "from sklearn.linear_model import LogisticRegression"
   ]
  },
  {
   "cell_type": "code",
   "execution_count": null,
   "metadata": {},
   "outputs": [],
   "source": [
    "# instantiate the model (using the default parameters)\n",
    "logreg = LogisticRegression()"
   ]
  },
  {
   "cell_type": "code",
   "execution_count": null,
   "metadata": {},
   "outputs": [],
   "source": [
    "# fit the model with data\n",
    "logreg.fit(X_train,y_train)"
   ]
  },
  {
   "cell_type": "code",
   "execution_count": null,
   "metadata": {},
   "outputs": [],
   "source": [
    "y_pred=logreg.predict(X_test)"
   ]
  },
  {
   "cell_type": "code",
   "execution_count": null,
   "metadata": {},
   "outputs": [],
   "source": [
    "# import the metrics class\n",
    "from sklearn import metrics\n",
    "cnf_matrix = metrics.confusion_matrix(y_test, y_pred)\n",
    "cnf_matrix"
   ]
  },
  {
   "cell_type": "code",
   "execution_count": null,
   "metadata": {},
   "outputs": [],
   "source": []
  },
  {
   "cell_type": "code",
   "execution_count": null,
   "metadata": {},
   "outputs": [],
   "source": []
  },
  {
   "cell_type": "code",
   "execution_count": null,
   "metadata": {},
   "outputs": [],
   "source": []
  },
  {
   "cell_type": "code",
   "execution_count": null,
   "metadata": {},
   "outputs": [],
   "source": []
  },
  {
   "cell_type": "code",
   "execution_count": null,
   "metadata": {},
   "outputs": [],
   "source": []
  },
  {
   "cell_type": "code",
   "execution_count": null,
   "metadata": {},
   "outputs": [],
   "source": []
  },
  {
   "cell_type": "code",
   "execution_count": null,
   "metadata": {},
   "outputs": [],
   "source": []
  },
  {
   "cell_type": "code",
   "execution_count": null,
   "metadata": {},
   "outputs": [],
   "source": []
  },
  {
   "cell_type": "code",
   "execution_count": null,
   "metadata": {},
   "outputs": [],
   "source": [
    "#https://www.datacamp.com/community/tutorials/decision-tree-classification-python\n",
    "# Create Decision Tree classifer object\n",
    "clf = DecisionTreeClassifier()\n",
    "\n",
    "# Train Decision Tree Classifer\n",
    "clf = clf.fit(X_train,y_train)\n",
    "\n",
    "#Predict the response for test dataset\n",
    "y_pred = clf.predict(X_test)"
   ]
  },
  {
   "cell_type": "code",
   "execution_count": null,
   "metadata": {},
   "outputs": [],
   "source": [
    "#https://towardsdatascience.com/decision-tree-in-python-b433ae57fb93\n",
    "dt = DecisionTreeClassifier()\n",
    "dt.fit(X_train, y_train)"
   ]
  },
  {
   "cell_type": "code",
   "execution_count": null,
   "metadata": {},
   "outputs": [],
   "source": [
    "#https://chrisalbon.com/machine_learning/trees_and_forests/decision_tree_classifier/\n",
    "\n",
    "# Create decision tree classifer object using gini\n",
    "clf = DecisionTreeClassifier(criterion='gini', random_state=0)\n",
    "\n",
    "# Train model\n",
    "model = clf.fit(X, y)\n",
    "\n",
    "# Make new observation\n",
    "observation = [[ 5,  4,  3,  2]]\n",
    "\n",
    "# Predict observation's class    \n",
    "model.predict(observation)"
   ]
  },
  {
   "cell_type": "code",
   "execution_count": null,
   "metadata": {},
   "outputs": [],
   "source": []
  },
  {
   "cell_type": "code",
   "execution_count": null,
   "metadata": {},
   "outputs": [],
   "source": []
  },
  {
   "cell_type": "code",
   "execution_count": null,
   "metadata": {},
   "outputs": [],
   "source": [
    "#your old value(string) and value is your new value(integer).\n",
    "###Accident = {'Yes': 1, 'No': 2}\n",
    "#Assign these different key-value pair from above dictiionary to your table\n",
    "###categorical_values.Accident = [Accident[item] for item in categorical_values.Accident]\n",
    "\n",
    "##https://www.tutorialspoint.com/replacing-strings-with-numbers-in-python-for-data-analysis"
   ]
  },
  {
   "cell_type": "code",
   "execution_count": null,
   "metadata": {},
   "outputs": [],
   "source": [
    "# import the class\n",
    "from sklearn.linear_model import LogisticRegression"
   ]
  },
  {
   "cell_type": "code",
   "execution_count": null,
   "metadata": {},
   "outputs": [],
   "source": [
    "# instantiate the model (using the default parameters)\n",
    "logreg = LogisticRegression()"
   ]
  },
  {
   "cell_type": "code",
   "execution_count": null,
   "metadata": {},
   "outputs": [],
   "source": [
    "# fit the model with data\n",
    "logreg.fit(X_train,y_train)"
   ]
  },
  {
   "cell_type": "code",
   "execution_count": null,
   "metadata": {},
   "outputs": [],
   "source": [
    "y_pred=logreg.predict(X_test)"
   ]
  },
  {
   "cell_type": "code",
   "execution_count": null,
   "metadata": {},
   "outputs": [],
   "source": [
    "# import the metrics class\n",
    "from sklearn import metrics\n",
    "cnf_matrix = metrics.confusion_matrix(y_test, y_pred)\n",
    "cnf_matrix"
   ]
  },
  {
   "cell_type": "code",
   "execution_count": null,
   "metadata": {},
   "outputs": [],
   "source": []
  },
  {
   "cell_type": "code",
   "execution_count": null,
   "metadata": {},
   "outputs": [],
   "source": []
  },
  {
   "cell_type": "code",
   "execution_count": null,
   "metadata": {},
   "outputs": [],
   "source": []
  },
  {
   "cell_type": "code",
   "execution_count": null,
   "metadata": {},
   "outputs": [],
   "source": []
  },
  {
   "cell_type": "code",
   "execution_count": null,
   "metadata": {},
   "outputs": [],
   "source": []
  },
  {
   "cell_type": "markdown",
   "metadata": {},
   "source": [
    "Question:  Would grouping the colors of 'CREAM', 'MULTICOLOR', 'COPPER', 'PINK', 'CHROME', 'CAMOUFLAGE', \n",
    "into the category of 'Other' impact the viewers interpretation?  This was done due to those being more outliers and having low numbers.  "
   ]
  },
  {
   "cell_type": "code",
   "execution_count": null,
   "metadata": {},
   "outputs": [],
   "source": [
    "final_color_no_accident_other = final_color_no_accident_no_null.copy()\n",
    "final_color_no_accident_other['Color'] = final_color_no_accident_other['Color'].replace(['CREAM', 'MULTICOLOR', 'COPPER', 'PINK', 'CHROME', 'CAMOUFLAGE'],'OTHER')\n",
    "final_color_no_accident_other.Color.value_counts()\n",
    "#Create new dataframe grouping very low numbered colors as one group called 'Other'\n",
    "#This was done to consider if it has any impact on displaying information more advantageously.\n",
    "#It does not do much in my opinion.  "
   ]
  },
  {
   "cell_type": "code",
   "execution_count": null,
   "metadata": {},
   "outputs": [],
   "source": [
    "final_color_accident_other = final_color_accident_no_null.copy()\n",
    "final_color_accident_other['Color'] = final_color_accident_other['Color'].replace(['CREAM', 'MULTICOLOR', 'COPPER', 'PINK', 'CHROME', 'CAMOUFLAGE'],'OTHER')\n",
    "final_color_accident_other.Color.value_counts()\n",
    "#Using the category of 'Other' for lower numbered color samples as a group\n",
    "#Looking to see how that impacts the numbers"
   ]
  },
  {
   "cell_type": "markdown",
   "metadata": {},
   "source": [
    "Answer:  Grouping the outliers into a category of 'Other' did not impact the viewers interpretation of how much greater the numbers in the popular colors are.  "
   ]
  },
  {
   "cell_type": "code",
   "execution_count": null,
   "metadata": {},
   "outputs": [],
   "source": []
  },
  {
   "cell_type": "code",
   "execution_count": null,
   "metadata": {},
   "outputs": [],
   "source": []
  },
  {
   "cell_type": "markdown",
   "metadata": {},
   "source": [
    ">Question: **Does alcohol appear to have any significance in traffic stops for automobiles in accidents?  **"
   ]
  },
  {
   "cell_type": "code",
   "execution_count": null,
   "metadata": {},
   "outputs": [],
   "source": [
    "autos_in_accidents_alcohol = data.loc[(data['VehicleType'] == '02 - Automobile') & (data['Accident'] == 'Yes') & (data['Alcohol'] == 'Yes'), ['Color', 'VehicleType', 'Accident', 'Alcohol']]\n",
    "##final set of colors, automobiles, that were in an accident\n",
    "autos_in_accidents_alcohol_no_null = autos_in_accidents_alcohol.dropna(axis = 0, subset = ['Color'])\n",
    "##drop any rows with a nan value for color\n",
    "autos_in_accidents_alcohol = autos_in_accidents_alcohol_no_null \n",
    "autos_in_accidents_alcohol.Color.value_counts()\n",
    "#Count the final set of colors for Automobiles in Accidents, that involved alcohol."
   ]
  },
  {
   "cell_type": "code",
   "execution_count": null,
   "metadata": {},
   "outputs": [],
   "source": [
    "final_color_accident_no_null.Color.value_counts()\n",
    "#Revisitng the count the final set of colors for Automobiles in Accidents."
   ]
  },
  {
   "cell_type": "code",
   "execution_count": null,
   "metadata": {},
   "outputs": [],
   "source": [
    "(autos_in_accidents_alcohol['Color'].value_counts()/final_color_accident_no_null['Color'].count())*100\n",
    "\n",
    "#Auto in accident with alcohol / Autos in accidents"
   ]
  },
  {
   "cell_type": "markdown",
   "metadata": {},
   "source": [
    "Answer:  **The percentage of vehicles in accidents that involved alcohol vs. vehicles in accidents in each color.  This is a small percentage.  For example, 47 out of 6,788 black automobiles in accidents involved alcohol.  There was a total of 302,920 black automobiles overall. "
   ]
  },
  {
   "cell_type": "markdown",
   "metadata": {},
   "source": [
    "\n",
    "Conclusion:\n",
    "Certain colors of vehicles have a slightly higher risk for being in an accident when looking at the percentages related to each individual color.  The risks overall vary by <1%, and therefore it doesn't seem a strong statement to make for clients to base decisions from.  \n",
    "Certain months of the years showed a variance in accidents that could vary by more than 200 compared to other months in the same year.  This merits further investigation by a client or company who wishes to use this information.  The weather may have played a factor or perhaps the economy.  \n",
    "\n"
   ]
  },
  {
   "cell_type": "markdown",
   "metadata": {},
   "source": []
  }
 ],
 "metadata": {
  "kernelspec": {
   "display_name": "Python 3",
   "language": "python",
   "name": "python3"
  },
  "language_info": {
   "codemirror_mode": {
    "name": "ipython",
    "version": 3
   },
   "file_extension": ".py",
   "mimetype": "text/x-python",
   "name": "python",
   "nbconvert_exporter": "python",
   "pygments_lexer": "ipython3",
   "version": "3.7.3"
  }
 },
 "nbformat": 4,
 "nbformat_minor": 1
}
