{
 "cells": [
  {
   "cell_type": "code",
   "execution_count": 1,
   "metadata": {},
   "outputs": [],
   "source": [
    "import pandas as pd\n",
    "#installing pandas"
   ]
  },
  {
   "cell_type": "code",
   "execution_count": 2,
   "metadata": {},
   "outputs": [],
   "source": [
    "from pandas.io.json import json_normalize \n",
    "#normalizing the data"
   ]
  },
  {
   "cell_type": "code",
   "execution_count": 3,
   "metadata": {},
   "outputs": [
    {
     "name": "stderr",
     "output_type": "stream",
     "text": [
      "/Users/Sandi/anaconda3/lib/python3.7/site-packages/IPython/core/interactiveshell.py:3057: DtypeWarning: Columns (19,20,21,22,23,24,25,34) have mixed types. Specify dtype option on import or set low_memory=False.\n",
      "  interactivity=interactivity, compiler=compiler, result=result)\n"
     ]
    }
   ],
   "source": [
    "data = pd.read_csv ('/Users/Sandi/Desktop/Projects/Capstone_1/Data/Traffic_Violations.csv')\n",
    "#reading the csv file into a normalized pandas dataframe"
   ]
  },
  {
   "cell_type": "code",
   "execution_count": 25,
   "metadata": {},
   "outputs": [
    {
     "name": "stdout",
     "output_type": "stream",
     "text": [
      "<class 'pandas.core.frame.DataFrame'>\n",
      "RangeIndex: 1608515 entries, 0 to 1608514\n",
      "Data columns (total 43 columns):\n",
      "SeqID                      1608515 non-null object\n",
      "Date Of Stop               1608515 non-null object\n",
      "Time Of Stop               1608515 non-null object\n",
      "Agency                     1608515 non-null object\n",
      "SubAgency                  1608515 non-null object\n",
      "Description                1608506 non-null object\n",
      "Location                   1608513 non-null object\n",
      "Latitude                   1608515 non-null float64\n",
      "Longitude                  1608515 non-null float64\n",
      "Accident                   1608515 non-null object\n",
      "Belts                      1608515 non-null object\n",
      "Personal Injury            1608515 non-null object\n",
      "Property Damage            1608515 non-null object\n",
      "Fatal                      1608515 non-null object\n",
      "Commercial License         1608515 non-null object\n",
      "HAZMAT                     1608515 non-null object\n",
      "Commercial Vehicle         1608515 non-null object\n",
      "Alcohol                    1608515 non-null object\n",
      "Work Zone                  1608515 non-null object\n",
      "Search Conducted           997947 non-null object\n",
      "Search Disposition         70274 non-null object\n",
      "Search Outcome             978777 non-null object\n",
      "Search Reason              70274 non-null object\n",
      "Search Reason For Stop     997773 non-null object\n",
      "Search Type                70266 non-null object\n",
      "Search Arrest Reason       47766 non-null object\n",
      "State                      1608456 non-null object\n",
      "VehicleType                1608515 non-null object\n",
      "Year                       1598721 non-null float64\n",
      "Make                       1608450 non-null object\n",
      "Model                      1608311 non-null object\n",
      "Color                      1589603 non-null object\n",
      "Violation Type             1608515 non-null object\n",
      "Charge                     1608515 non-null object\n",
      "Article                    1530569 non-null object\n",
      "Contributed To Accident    1608515 non-null bool\n",
      "Race                       1608515 non-null object\n",
      "Gender                     1608515 non-null object\n",
      "Driver City                1608126 non-null object\n",
      "Driver State               1608504 non-null object\n",
      "DL State                   1607586 non-null object\n",
      "Arrest Type                1608515 non-null object\n",
      "Geolocation                1608515 non-null object\n",
      "dtypes: bool(1), float64(3), object(39)\n",
      "memory usage: 517.0+ MB\n"
     ]
    }
   ],
   "source": [
    "data.info()"
   ]
  },
  {
   "cell_type": "code",
   "execution_count": 4,
   "metadata": {},
   "outputs": [
    {
     "data": {
      "text/plain": [
       "array(['BLACK', 'WHITE', 'SILVER', 'GRAY', 'RED', 'GREEN', 'BLUE',\n",
       "       'GREEN, DK', 'BEIGE', 'YELLOW', 'MAROON', nan, 'BROWN',\n",
       "       'BLUE, LIGHT', 'TAN', 'GOLD', 'BLUE, DARK', 'BRONZE', 'ORANGE',\n",
       "       'GREEN, LGT', 'COPPER', 'MULTICOLOR', 'PURPLE', 'CREAM', 'PINK',\n",
       "       'CAMOUFLAGE', 'CHROME'], dtype=object)"
      ]
     },
     "execution_count": 4,
     "metadata": {},
     "output_type": "execute_result"
    }
   ],
   "source": [
    "color = data.Color.unique()\n",
    "color\n",
    "##identify all colors of vehicles listed in the 'Color' column  \n",
    "##shows there is nan color category which I will remove in a later step"
   ]
  },
  {
   "cell_type": "code",
   "execution_count": null,
   "metadata": {},
   "outputs": [],
   "source": []
  },
  {
   "cell_type": "code",
   "execution_count": 5,
   "metadata": {},
   "outputs": [
    {
     "data": {
      "text/plain": [
       "02 - Automobile              1418573\n",
       "05 - Light Duty Truck          85828\n",
       "28 - Other                     28644\n",
       "03 - Station Wagon             23981\n",
       "01 - Motorcycle                14426\n",
       "06 - Heavy Duty Truck          13824\n",
       "29 - Unknown                   10229\n",
       "08 - Recreational Vehicle       5083\n",
       "25 - Utility Trailer            1666\n",
       "19 - Moped                      1601\n",
       "07 - Truck/Road Tractor         1482\n",
       "04 - Limousine                   876\n",
       "20 - Commercial Rig              832\n",
       "10 - Transit Bus                 527\n",
       "12 - School Bus                  304\n",
       "27 - Farm Equipment              131\n",
       "09 - Farm Vehicle                107\n",
       "26 - Boat Trailer                101\n",
       "21 - Tandem Trailer               84\n",
       "11 - Cross Country Bus            59\n",
       "23 - Travel/Home Trailer          31\n",
       "22 - Mobile Home                  26\n",
       "24 - Camper                       19\n",
       "14 - Ambulance(Non-Emerg)         18\n",
       "18 - Police(Non-Emerg)            17\n",
       "13 - Ambulance(Emerg)             14\n",
       "15 - Fire(Emerg)                  13\n",
       "17 - Police(Emerg)                 5\n",
       "18 - Police Vehicle                4\n",
       "16 - Fire(Non-Emerg)               4\n",
       "15 - Fire Vehicle                  3\n",
       "14 - Ambulance                     2\n",
       "13 - Ambulance                     1\n",
       "Name: VehicleType, dtype: int64"
      ]
     },
     "execution_count": 5,
     "metadata": {},
     "output_type": "execute_result"
    }
   ],
   "source": [
    "data.VehicleType.value_counts()\n",
    "##identify all types of vehicles listed in the 'Vehicle Type' and the count for each\n",
    "##choose to use \"02 Automobile\" which has over a million vehicles"
   ]
  },
  {
   "cell_type": "code",
   "execution_count": 6,
   "metadata": {},
   "outputs": [],
   "source": [
    "only_automobiles_color= data.loc[(data['VehicleType'] == '02 - Automobile')\n",
    "                                 , ['Color', 'VehicleType']]\n",
    "#create a dataframe of only automobiles and their colors."
   ]
  },
  {
   "cell_type": "code",
   "execution_count": 7,
   "metadata": {},
   "outputs": [],
   "source": [
    "only_automobiles_color_nonull= only_automobiles_color.dropna(axis = 0, subset = ['Color'])\n",
    "#drop nulls from only autos, where the color category is nan.\n",
    "#elimating those rows that have missing values in their color column."
   ]
  },
  {
   "cell_type": "code",
   "execution_count": 8,
   "metadata": {},
   "outputs": [
    {
     "data": {
      "text/plain": [
       "array(['BLACK', 'WHITE', 'SILVER', 'GRAY', 'RED', 'GREEN', 'BLUE',\n",
       "       'GREEN, DK', 'BEIGE', 'YELLOW', 'MAROON', 'BROWN', 'BLUE, LIGHT',\n",
       "       'TAN', 'GOLD', 'BLUE, DARK', 'BRONZE', 'ORANGE', 'GREEN, LGT',\n",
       "       'COPPER', 'PURPLE', 'CREAM', 'MULTICOLOR', 'PINK', 'CHROME',\n",
       "       'CAMOUFLAGE'], dtype=object)"
      ]
     },
     "execution_count": 8,
     "metadata": {},
     "output_type": "execute_result"
    }
   ],
   "source": [
    "only_automobiles_color_nonull.Color.unique()\n",
    "#now the set of automobiles does not contain the null values."
   ]
  },
  {
   "cell_type": "code",
   "execution_count": 21,
   "metadata": {},
   "outputs": [
    {
     "data": {
      "text/plain": [
       "BLACK          297696\n",
       "SILVER         272912\n",
       "WHITE          201279\n",
       "GRAY           167253\n",
       "RED            110668\n",
       "BLUE           105321\n",
       "GREEN           50301\n",
       "GOLD            44926\n",
       "BLUE, DARK      29862\n",
       "TAN             29189\n",
       "MAROON          23336\n",
       "BLUE, LIGHT     18533\n",
       "BEIGE           16541\n",
       "GREEN, DK       14210\n",
       "GREEN, LGT       7745\n",
       "BROWN            6175\n",
       "ORANGE           4978\n",
       "YELLOW           4189\n",
       "BRONZE           3138\n",
       "PURPLE           2659\n",
       "CREAM             836\n",
       "MULTICOLOR        506\n",
       "COPPER            420\n",
       "PINK              190\n",
       "CHROME             40\n",
       "CAMOUFLAGE         25\n",
       "Name: Color, dtype: int64"
      ]
     },
     "execution_count": 21,
     "metadata": {},
     "output_type": "execute_result"
    }
   ],
   "source": [
    "only_automobiles_color_nonull.Color.value_counts()\n",
    "#count total number of automobiles in each color."
   ]
  },
  {
   "cell_type": "code",
   "execution_count": 10,
   "metadata": {},
   "outputs": [],
   "source": [
    "#group the outliers into one category, 'Other'. \n",
    "#(cream, multicolor, copper, pink, chrome, camouflage)\n"
   ]
  },
  {
   "cell_type": "code",
   "execution_count": null,
   "metadata": {},
   "outputs": [],
   "source": []
  },
  {
   "cell_type": "code",
   "execution_count": null,
   "metadata": {},
   "outputs": [],
   "source": []
  },
  {
   "cell_type": "code",
   "execution_count": null,
   "metadata": {},
   "outputs": [],
   "source": []
  },
  {
   "cell_type": "code",
   "execution_count": 23,
   "metadata": {},
   "outputs": [],
   "source": [
    "final_color_accident = data.loc[(data['VehicleType'] == '02 - Automobile') & (data['Accident'] == 'Yes'), ['Color', 'VehicleType', 'Accident']]\n",
    "##final set of colors, automobiles, that were in an accident"
   ]
  },
  {
   "cell_type": "code",
   "execution_count": 24,
   "metadata": {},
   "outputs": [
    {
     "data": {
      "text/html": [
       "<div>\n",
       "<style scoped>\n",
       "    .dataframe tbody tr th:only-of-type {\n",
       "        vertical-align: middle;\n",
       "    }\n",
       "\n",
       "    .dataframe tbody tr th {\n",
       "        vertical-align: top;\n",
       "    }\n",
       "\n",
       "    .dataframe thead th {\n",
       "        text-align: right;\n",
       "    }\n",
       "</style>\n",
       "<table border=\"1\" class=\"dataframe\">\n",
       "  <thead>\n",
       "    <tr style=\"text-align: right;\">\n",
       "      <th></th>\n",
       "      <th>Color</th>\n",
       "      <th>VehicleType</th>\n",
       "      <th>Accident</th>\n",
       "    </tr>\n",
       "  </thead>\n",
       "  <tbody>\n",
       "    <tr>\n",
       "      <th>23</th>\n",
       "      <td>SILVER</td>\n",
       "      <td>02 - Automobile</td>\n",
       "      <td>Yes</td>\n",
       "    </tr>\n",
       "    <tr>\n",
       "      <th>42</th>\n",
       "      <td>GREEN</td>\n",
       "      <td>02 - Automobile</td>\n",
       "      <td>Yes</td>\n",
       "    </tr>\n",
       "    <tr>\n",
       "      <th>59</th>\n",
       "      <td>GRAY</td>\n",
       "      <td>02 - Automobile</td>\n",
       "      <td>Yes</td>\n",
       "    </tr>\n",
       "    <tr>\n",
       "      <th>61</th>\n",
       "      <td>YELLOW</td>\n",
       "      <td>02 - Automobile</td>\n",
       "      <td>Yes</td>\n",
       "    </tr>\n",
       "    <tr>\n",
       "      <th>77</th>\n",
       "      <td>WHITE</td>\n",
       "      <td>02 - Automobile</td>\n",
       "      <td>Yes</td>\n",
       "    </tr>\n",
       "  </tbody>\n",
       "</table>\n",
       "</div>"
      ],
      "text/plain": [
       "     Color      VehicleType Accident\n",
       "23  SILVER  02 - Automobile      Yes\n",
       "42   GREEN  02 - Automobile      Yes\n",
       "59    GRAY  02 - Automobile      Yes\n",
       "61  YELLOW  02 - Automobile      Yes\n",
       "77   WHITE  02 - Automobile      Yes"
      ]
     },
     "execution_count": 24,
     "metadata": {},
     "output_type": "execute_result"
    }
   ],
   "source": [
    "final_color_accident.head(5)"
   ]
  },
  {
   "cell_type": "code",
   "execution_count": 27,
   "metadata": {},
   "outputs": [],
   "source": [
    "final_color_no_accident = data.loc[(data['VehicleType'] == '02 - Automobile') & (data['Accident'] == 'No'), ['Color', 'VehicleType', 'Accident']]\n",
    "##final set of colors, automobiles, that were NOT in an accident"
   ]
  },
  {
   "cell_type": "code",
   "execution_count": 29,
   "metadata": {},
   "outputs": [
    {
     "data": {
      "text/html": [
       "<div>\n",
       "<style scoped>\n",
       "    .dataframe tbody tr th:only-of-type {\n",
       "        vertical-align: middle;\n",
       "    }\n",
       "\n",
       "    .dataframe tbody tr th {\n",
       "        vertical-align: top;\n",
       "    }\n",
       "\n",
       "    .dataframe thead th {\n",
       "        text-align: right;\n",
       "    }\n",
       "</style>\n",
       "<table border=\"1\" class=\"dataframe\">\n",
       "  <thead>\n",
       "    <tr style=\"text-align: right;\">\n",
       "      <th></th>\n",
       "      <th>Color</th>\n",
       "      <th>VehicleType</th>\n",
       "      <th>Accident</th>\n",
       "    </tr>\n",
       "  </thead>\n",
       "  <tbody>\n",
       "    <tr>\n",
       "      <th>0</th>\n",
       "      <td>BLACK</td>\n",
       "      <td>02 - Automobile</td>\n",
       "      <td>No</td>\n",
       "    </tr>\n",
       "    <tr>\n",
       "      <th>1</th>\n",
       "      <td>BLACK</td>\n",
       "      <td>02 - Automobile</td>\n",
       "      <td>No</td>\n",
       "    </tr>\n",
       "    <tr>\n",
       "      <th>3</th>\n",
       "      <td>WHITE</td>\n",
       "      <td>02 - Automobile</td>\n",
       "      <td>No</td>\n",
       "    </tr>\n",
       "    <tr>\n",
       "      <th>4</th>\n",
       "      <td>BLACK</td>\n",
       "      <td>02 - Automobile</td>\n",
       "      <td>No</td>\n",
       "    </tr>\n",
       "    <tr>\n",
       "      <th>5</th>\n",
       "      <td>WHITE</td>\n",
       "      <td>02 - Automobile</td>\n",
       "      <td>No</td>\n",
       "    </tr>\n",
       "  </tbody>\n",
       "</table>\n",
       "</div>"
      ],
      "text/plain": [
       "   Color      VehicleType Accident\n",
       "0  BLACK  02 - Automobile       No\n",
       "1  BLACK  02 - Automobile       No\n",
       "3  WHITE  02 - Automobile       No\n",
       "4  BLACK  02 - Automobile       No\n",
       "5  WHITE  02 - Automobile       No"
      ]
     },
     "execution_count": 29,
     "metadata": {},
     "output_type": "execute_result"
    }
   ],
   "source": [
    "final_color_no_accident.head(5)"
   ]
  },
  {
   "cell_type": "code",
   "execution_count": 31,
   "metadata": {},
   "outputs": [],
   "source": [
    "final_color_accident_no_null = final_color_accident.dropna(axis = 0, subset = ['Color'])\n",
    "##drop any rows with a nan value for color"
   ]
  },
  {
   "cell_type": "code",
   "execution_count": 32,
   "metadata": {},
   "outputs": [],
   "source": [
    "final_color_no_accident_no_null = final_color_no_accident.dropna(axis = 0, subset = ['Color'])\n",
    "##drop any rows with a nan value for color"
   ]
  },
  {
   "cell_type": "code",
   "execution_count": 33,
   "metadata": {},
   "outputs": [
    {
     "data": {
      "text/plain": [
       "BLACK          6574\n",
       "SILVER         6310\n",
       "WHITE          4817\n",
       "GRAY           4082\n",
       "RED            2783\n",
       "BLUE           2621\n",
       "GREEN          1375\n",
       "GOLD           1080\n",
       "TAN             793\n",
       "BLUE, DARK      789\n",
       "MAROON          694\n",
       "BLUE, LIGHT     438\n",
       "GREEN, DK       421\n",
       "BEIGE           413\n",
       "GREEN, LGT      225\n",
       "BROWN           174\n",
       "ORANGE          121\n",
       "YELLOW           87\n",
       "BRONZE           81\n",
       "PURPLE           74\n",
       "MULTICOLOR       40\n",
       "CREAM            20\n",
       "COPPER            4\n",
       "CHROME            1\n",
       "Name: Color, dtype: int64"
      ]
     },
     "execution_count": 33,
     "metadata": {},
     "output_type": "execute_result"
    }
   ],
   "source": [
    "final_color_accident_no_null.Color.value_counts()\n",
    "#final count on number of automobiles of each color in accidents."
   ]
  },
  {
   "cell_type": "code",
   "execution_count": 34,
   "metadata": {},
   "outputs": [
    {
     "data": {
      "text/plain": [
       "BLACK          291122\n",
       "SILVER         266602\n",
       "WHITE          196462\n",
       "GRAY           163171\n",
       "RED            107885\n",
       "BLUE           102700\n",
       "GREEN           48926\n",
       "GOLD            43846\n",
       "BLUE, DARK      29073\n",
       "TAN             28396\n",
       "MAROON          22642\n",
       "BLUE, LIGHT     18095\n",
       "BEIGE           16128\n",
       "GREEN, DK       13789\n",
       "GREEN, LGT       7520\n",
       "BROWN            6001\n",
       "ORANGE           4857\n",
       "YELLOW           4102\n",
       "BRONZE           3057\n",
       "PURPLE           2585\n",
       "CREAM             816\n",
       "MULTICOLOR        466\n",
       "COPPER            416\n",
       "PINK              190\n",
       "CHROME             39\n",
       "CAMOUFLAGE         25\n",
       "Name: Color, dtype: int64"
      ]
     },
     "execution_count": 34,
     "metadata": {},
     "output_type": "execute_result"
    }
   ],
   "source": [
    "final_color_no_accident_no_null.Color.value_counts()\n",
    "#final count on number of automobiles of each color not in accidents."
   ]
  },
  {
   "cell_type": "code",
   "execution_count": null,
   "metadata": {},
   "outputs": [],
   "source": []
  }
 ],
 "metadata": {
  "kernelspec": {
   "display_name": "Python 3",
   "language": "python",
   "name": "python3"
  },
  "language_info": {
   "codemirror_mode": {
    "name": "ipython",
    "version": 3
   },
   "file_extension": ".py",
   "mimetype": "text/x-python",
   "name": "python",
   "nbconvert_exporter": "python",
   "pygments_lexer": "ipython3",
   "version": "3.7.3"
  }
 },
 "nbformat": 4,
 "nbformat_minor": 2
}
