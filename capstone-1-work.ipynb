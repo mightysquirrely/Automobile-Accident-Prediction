{
 "cells": [
  {
   "cell_type": "markdown",
   "metadata": {},
   "source": [
    "**Capstone Project 1 - Predicting Automobile Accidents in Montgomery County**\n",
    "\n",
    "Can accident frequency be predicted for automobiles based on particular factors?  In this capstone project the data from Maryland's Montgomery county traffic stop database is used to look at variables that could potentially help predict increased accident likelihood.  \n",
    "\n",
    "-Can accidents be predicted based on the month?\n",
    "-Is there a connection between certain colors of automobiles being in more accidents due to their color, or is it more a popularity of that color leading to more of them to have more accidents? \n",
    "-Can a recommendation be made on certain colors being safer automobiles?\n",
    "-What caused the year 2017 to have more accidents?\n",
    "-Did alcohol affect the amount of accidents with any significance?\n",
    "\n",
    "\n",
    "Future questions - Can accidents be predicted based on the day of the week (weekday, weekend)?\n",
    "Can conclusions be made that driving a certain color car on a certain day of the week is more likely to get in an accident vs other car colors?\n"
   ]
  },
  {
   "cell_type": "markdown",
   "metadata": {},
   "source": [
    "**Import Packages and Read Data**"
   ]
  },
  {
   "cell_type": "code",
   "execution_count": 1,
   "metadata": {
    "_cell_guid": "b1076dfc-b9ad-4769-8c92-a6c4dae69d19",
    "_uuid": "8f2839f25d086af736a60e9eeb907d3b93b6e0e5"
   },
   "outputs": [
    {
     "name": "stdout",
     "output_type": "stream",
     "text": [
      "/kaggle/input/traffic-violations-2020/Traffic_Violations_2020.csv\n",
      "/kaggle/input/capstone-1/Traffic_Violations.csv\n"
     ]
    }
   ],
   "source": [
    "\n",
    "import os\n",
    "for dirname, _, filenames in os.walk('/kaggle/input'):\n",
    "    for filename in filenames:\n",
    "        print(os.path.join(dirname, filename))\n",
    "\n",
    "# Any results you write to the current directory are saved as output."
   ]
  },
  {
   "cell_type": "code",
   "execution_count": 2,
   "metadata": {
    "_cell_guid": "",
    "_uuid": ""
   },
   "outputs": [
    {
     "name": "stderr",
     "output_type": "stream",
     "text": [
      "/opt/conda/lib/python3.6/site-packages/IPython/core/interactiveshell.py:3058: DtypeWarning: Columns (19,20,21,22,23,24,25,34) have mixed types. Specify dtype option on import or set low_memory=False.\n",
      "  interactivity=interactivity, compiler=compiler, result=result)\n"
     ]
    }
   ],
   "source": [
    "\n",
    "import numpy as np # linear algebra\n",
    "import pandas as pd # data processing, CSV file I/O (e.g. pd.read_csv)\n",
    "import seaborn as sns\n",
    "import matplotlib\n",
    "import matplotlib.pyplot as plt\n",
    "from scipy import stats\n",
    "from scipy.stats import norm\n",
    "from scipy.stats import t\n",
    "from numpy.random import seed\n",
    "\n",
    "from datetime import datetime\n",
    "from matplotlib.dates import WeekdayLocator\n",
    "from matplotlib.dates import MO, TU, WE, TH, FR, SA, SU #prep for investigating dates\n",
    "\n",
    "import pandas as pd\n",
    "from pandas.io.json import json_normalize \n",
    "data = pd.read_csv(\"../input/traffic-violations-2020/Traffic_Violations_2020.csv\", parse_dates = ['Date Of Stop', 'Time Of Stop'])\n",
    "#This data comes from the dataset with traffic violation information issued in the county of Montgomery, located in Maryland."
   ]
  },
  {
   "cell_type": "code",
   "execution_count": 3,
   "metadata": {},
   "outputs": [
    {
     "name": "stderr",
     "output_type": "stream",
     "text": [
      "Using TensorFlow backend.\n"
     ]
    }
   ],
   "source": [
    "import imblearn"
   ]
  },
  {
   "cell_type": "markdown",
   "metadata": {},
   "source": [
    "**Clean and Merge Data**\n",
    "This set was fairly clean.  It is crucial to include this step.  There were some missing values to be aware of.  "
   ]
  },
  {
   "cell_type": "markdown",
   "metadata": {},
   "source": [
    "Question:  Can missing data be identified and can we see where there may be missing values?  **Identify included data**"
   ]
  },
  {
   "cell_type": "code",
   "execution_count": 4,
   "metadata": {},
   "outputs": [
    {
     "name": "stdout",
     "output_type": "stream",
     "text": [
      "<class 'pandas.core.frame.DataFrame'>\n",
      "RangeIndex: 1632871 entries, 0 to 1632870\n",
      "Data columns (total 43 columns):\n",
      "SeqID                      1632871 non-null object\n",
      "Date Of Stop               1632871 non-null datetime64[ns]\n",
      "Time Of Stop               1632871 non-null datetime64[ns]\n",
      "Agency                     1632871 non-null object\n",
      "SubAgency                  1632871 non-null object\n",
      "Description                1632862 non-null object\n",
      "Location                   1632869 non-null object\n",
      "Latitude                   1632871 non-null float64\n",
      "Longitude                  1632871 non-null float64\n",
      "Accident                   1632871 non-null object\n",
      "Belts                      1632871 non-null object\n",
      "Personal Injury            1632871 non-null object\n",
      "Property Damage            1632871 non-null object\n",
      "Fatal                      1632871 non-null object\n",
      "Commercial License         1632871 non-null object\n",
      "HAZMAT                     1632871 non-null object\n",
      "Commercial Vehicle         1632871 non-null object\n",
      "Alcohol                    1632871 non-null object\n",
      "Work Zone                  1632871 non-null object\n",
      "Search Conducted           1015074 non-null object\n",
      "Search Disposition         71570 non-null object\n",
      "Search Outcome             995904 non-null object\n",
      "Search Reason              71570 non-null object\n",
      "Search Reason For Stop     1014900 non-null object\n",
      "Search Type                71562 non-null object\n",
      "Search Arrest Reason       48775 non-null object\n",
      "State                      1632812 non-null object\n",
      "VehicleType                1632871 non-null object\n",
      "Year                       1623012 non-null float64\n",
      "Make                       1632806 non-null object\n",
      "Model                      1632666 non-null object\n",
      "Color                      1613881 non-null object\n",
      "Violation Type             1632871 non-null object\n",
      "Charge                     1632871 non-null object\n",
      "Article                    1554048 non-null object\n",
      "Contributed To Accident    1632871 non-null bool\n",
      "Race                       1632871 non-null object\n",
      "Gender                     1632871 non-null object\n",
      "Driver City                1632482 non-null object\n",
      "Driver State               1632860 non-null object\n",
      "DL State                   1631942 non-null object\n",
      "Arrest Type                1632871 non-null object\n",
      "Geolocation                1632871 non-null object\n",
      "dtypes: bool(1), datetime64[ns](2), float64(3), object(37)\n",
      "memory usage: 524.8+ MB\n"
     ]
    }
   ],
   "source": [
    "data.info()\n",
    "#This was done to identify categories with missing information."
   ]
  },
  {
   "cell_type": "markdown",
   "metadata": {},
   "source": [
    "Answer:  1,632,871 is the total number of non-null objects recorded.  Any category without this full amount is missing information.  "
   ]
  },
  {
   "cell_type": "markdown",
   "metadata": {},
   "source": [
    "Question:  What vehicle types are listed in the data set?  What would be a good representation for a general population to sample?"
   ]
  },
  {
   "cell_type": "code",
   "execution_count": 5,
   "metadata": {},
   "outputs": [
    {
     "data": {
      "text/plain": [
       "02 - Automobile              1441219\n",
       "05 - Light Duty Truck          86620\n",
       "28 - Other                     28983\n",
       "03 - Station Wagon             24160\n",
       "01 - Motorcycle                14551\n",
       "06 - Heavy Duty Truck          13920\n",
       "29 - Unknown                   10297\n",
       "08 - Recreational Vehicle       5118\n",
       "25 - Utility Trailer            1672\n",
       "19 - Moped                      1602\n",
       "07 - Truck/Road Tractor         1512\n",
       "04 - Limousine                   886\n",
       "20 - Commercial Rig              848\n",
       "10 - Transit Bus                 531\n",
       "12 - School Bus                  313\n",
       "27 - Farm Equipment              131\n",
       "09 - Farm Vehicle                107\n",
       "26 - Boat Trailer                101\n",
       "21 - Tandem Trailer               84\n",
       "11 - Cross Country Bus            59\n",
       "23 - Travel/Home Trailer          31\n",
       "22 - Mobile Home                  26\n",
       "24 - Camper                       19\n",
       "14 - Ambulance(Non-Emerg)         18\n",
       "18 - Police(Non-Emerg)            17\n",
       "13 - Ambulance(Emerg)             14\n",
       "15 - Fire(Emerg)                  13\n",
       "17 - Police(Emerg)                 5\n",
       "16 - Fire(Non-Emerg)               4\n",
       "18 - Police Vehicle                4\n",
       "15 - Fire Vehicle                  3\n",
       "14 - Ambulance                     2\n",
       "13 - Ambulance                     1\n",
       "Name: VehicleType, dtype: int64"
      ]
     },
     "execution_count": 5,
     "metadata": {},
     "output_type": "execute_result"
    }
   ],
   "source": [
    "data.VehicleType.value_counts()\n",
    "##Step to identify all types of vehicles listed in the 'Vehicle Type'\n",
    "##From here it was determined to use only the Automobiles section"
   ]
  },
  {
   "cell_type": "markdown",
   "metadata": {},
   "source": [
    "Answer:  There are over one million automobiles in this data set.  This would be primarily the focus for most consumers and the clients identified for this study.  "
   ]
  },
  {
   "cell_type": "markdown",
   "metadata": {},
   "source": [
    "Question:  How many of each color automobile exists in the data set?  **Filter only Automobiles**"
   ]
  },
  {
   "cell_type": "code",
   "execution_count": 6,
   "metadata": {},
   "outputs": [
    {
     "data": {
      "text/plain": [
       "BLACK          302920\n",
       "SILVER         277374\n",
       "WHITE          204921\n",
       "GRAY           170297\n",
       "RED            112190\n",
       "BLUE           107037\n",
       "GREEN           50681\n",
       "GOLD            45461\n",
       "BLUE, DARK      30384\n",
       "TAN             29503\n",
       "MAROON          23658\n",
       "BLUE, LIGHT     18778\n",
       "BEIGE           16738\n",
       "GREEN, DK       14368\n",
       "GREEN, LGT       7831\n",
       "BROWN            6246\n",
       "ORANGE           5036\n",
       "YELLOW           4234\n",
       "BRONZE           3179\n",
       "PURPLE           2683\n",
       "CREAM             845\n",
       "MULTICOLOR        510\n",
       "COPPER            430\n",
       "PINK              192\n",
       "CHROME             40\n",
       "CAMOUFLAGE         25\n",
       "Name: Color, dtype: int64"
      ]
     },
     "execution_count": 6,
     "metadata": {},
     "output_type": "execute_result"
    }
   ],
   "source": [
    "only_automobiles_color= data.loc[(data['VehicleType'] == '02 - Automobile') , ['Color', 'VehicleType']]\n",
    "#Create a new dataframe of only automobiles and their colors.\n",
    "only_automobiles_color.Color.value_counts()\n",
    "#Count total number of automobiles in each color."
   ]
  },
  {
   "cell_type": "code",
   "execution_count": 7,
   "metadata": {},
   "outputs": [
    {
     "data": {
      "text/plain": [
       "BLACK          302920\n",
       "SILVER         277374\n",
       "WHITE          204921\n",
       "GRAY           170297\n",
       "RED            112190\n",
       "BLUE           107037\n",
       "GREEN           50681\n",
       "GOLD            45461\n",
       "BLUE, DARK      30384\n",
       "TAN             29503\n",
       "MAROON          23658\n",
       "BLUE, LIGHT     18778\n",
       "BEIGE           16738\n",
       "GREEN, DK       14368\n",
       "GREEN, LGT       7831\n",
       "BROWN            6246\n",
       "ORANGE           5036\n",
       "YELLOW           4234\n",
       "BRONZE           3179\n",
       "PURPLE           2683\n",
       "CREAM             845\n",
       "MULTICOLOR        510\n",
       "COPPER            430\n",
       "PINK              192\n",
       "CHROME             40\n",
       "CAMOUFLAGE         25\n",
       "Name: Color, dtype: int64"
      ]
     },
     "execution_count": 7,
     "metadata": {},
     "output_type": "execute_result"
    }
   ],
   "source": [
    "only_automobiles_color_nonull= only_automobiles_color.dropna(axis = 0, subset = ['Color'])\n",
    "#drop nulls from only autos,color that are nan.\n",
    "only_automobiles_color_nonull.Color.value_counts()\n",
    "#Final count on number of automobiles of each color."
   ]
  },
  {
   "cell_type": "code",
   "execution_count": 8,
   "metadata": {},
   "outputs": [
    {
     "data": {
      "text/plain": [
       "array(['BLACK', 'WHITE', 'SILVER', 'GRAY', 'RED', 'BLUE', 'GREEN, DK',\n",
       "       'BEIGE', 'GREEN', 'YELLOW', 'MAROON', 'BROWN', 'BLUE, LIGHT',\n",
       "       'TAN', 'BLUE, DARK', 'GOLD', 'ORANGE', 'BRONZE', 'GREEN, LGT',\n",
       "       'COPPER', 'PURPLE', 'CREAM', 'MULTICOLOR', 'PINK', 'CHROME',\n",
       "       'CAMOUFLAGE'], dtype=object)"
      ]
     },
     "execution_count": 8,
     "metadata": {},
     "output_type": "execute_result"
    }
   ],
   "source": [
    "only_automobiles_color_nonull.Color.unique()\n",
    "##Identify all colors of autos that exist in the data that have a value"
   ]
  },
  {
   "cell_type": "code",
   "execution_count": null,
   "metadata": {},
   "outputs": [],
   "source": []
  },
  {
   "cell_type": "markdown",
   "metadata": {},
   "source": [
    "Question:  When comparing the percentage of the represented colors for all vehicles to represented colors for only automobiles, are they similar enough to give an accurate assessment for what this study is looking at to use only the automobiles as the sample dataset?"
   ]
  },
  {
   "cell_type": "code",
   "execution_count": 9,
   "metadata": {},
   "outputs": [
    {
     "data": {
      "text/plain": [
       "BLACK          20.757788\n",
       "SILVER         18.482156\n",
       "WHITE          15.866721\n",
       "GRAY           11.534803\n",
       "RED             7.833973\n",
       "BLUE            7.388959\n",
       "GREEN           3.517793\n",
       "GOLD            3.059333\n",
       "BLUE, DARK      2.133243\n",
       "TAN             1.976106\n",
       "MAROON          1.703905\n",
       "BLUE, LIGHT     1.283118\n",
       "BEIGE           1.106959\n",
       "GREEN, DK       1.027399\n",
       "GREEN, LGT      0.545084\n",
       "BROWN           0.453813\n",
       "YELLOW          0.373076\n",
       "ORANGE          0.353248\n",
       "BRONZE          0.229695\n",
       "PURPLE          0.188428\n",
       "MULTICOLOR      0.076152\n",
       "CREAM           0.058926\n",
       "COPPER          0.030857\n",
       "PINK            0.013818\n",
       "CHROME          0.002540\n",
       "CAMOUFLAGE      0.002107\n",
       "Name: Color, dtype: float64"
      ]
     },
     "execution_count": 9,
     "metadata": {},
     "output_type": "execute_result"
    }
   ],
   "source": [
    "(data['Color'].value_counts()/data['Color'].count())*100\n",
    "##Find the percentages of all 'VehicleTypes' in each color out of all vehicles."
   ]
  },
  {
   "cell_type": "code",
   "execution_count": 10,
   "metadata": {},
   "outputs": [
    {
     "data": {
      "text/plain": [
       "BLACK          21.101158\n",
       "SILVER         19.321645\n",
       "WHITE          14.274629\n",
       "GRAY           11.862749\n",
       "RED             7.815063\n",
       "BLUE            7.456109\n",
       "GREEN           3.530397\n",
       "GOLD            3.166776\n",
       "BLUE, DARK      2.116524\n",
       "TAN             2.055155\n",
       "MAROON          1.647997\n",
       "BLUE, LIGHT     1.308060\n",
       "BEIGE           1.165955\n",
       "GREEN, DK       1.000863\n",
       "GREEN, LGT      0.545501\n",
       "BROWN           0.435091\n",
       "ORANGE          0.350804\n",
       "YELLOW          0.294937\n",
       "BRONZE          0.221447\n",
       "PURPLE          0.186896\n",
       "CREAM           0.058862\n",
       "MULTICOLOR      0.035526\n",
       "COPPER          0.029953\n",
       "PINK            0.013375\n",
       "CHROME          0.002786\n",
       "CAMOUFLAGE      0.001741\n",
       "Name: Color, dtype: float64"
      ]
     },
     "execution_count": 10,
     "metadata": {},
     "output_type": "execute_result"
    }
   ],
   "source": [
    "((only_automobiles_color['Color'].value_counts()/only_automobiles_color['Color'].count())*100\n",
    ")\n",
    "##Find the percentages of each color of automobile out of the total automobiles."
   ]
  },
  {
   "cell_type": "markdown",
   "metadata": {},
   "source": [
    "Answer:   The percentage of the represented colors for all vehicles vs. represented colors for only automobiles have similarity to give an accurate assessment for what this study is looking at to use only the automobiles as the sample dataset."
   ]
  },
  {
   "cell_type": "code",
   "execution_count": null,
   "metadata": {},
   "outputs": [],
   "source": []
  },
  {
   "cell_type": "markdown",
   "metadata": {},
   "source": [
    "Question:  What is noticed in the number of automobiles in accidents compared to those not in accidents?  "
   ]
  },
  {
   "cell_type": "code",
   "execution_count": 11,
   "metadata": {},
   "outputs": [
    {
     "data": {
      "text/plain": [
       "BLACK          6788\n",
       "SILVER         6475\n",
       "WHITE          4903\n",
       "GRAY           4161\n",
       "RED            2824\n",
       "BLUE           2732\n",
       "GREEN          1379\n",
       "GOLD           1095\n",
       "BLUE, DARK      805\n",
       "TAN             799\n",
       "MAROON          706\n",
       "BLUE, LIGHT     448\n",
       "BEIGE           423\n",
       "GREEN, DK       421\n",
       "GREEN, LGT      227\n",
       "BROWN           180\n",
       "ORANGE          123\n",
       "YELLOW           87\n",
       "BRONZE           81\n",
       "PURPLE           74\n",
       "MULTICOLOR       40\n",
       "CREAM            20\n",
       "COPPER            4\n",
       "CHROME            1\n",
       "Name: Color, dtype: int64"
      ]
     },
     "execution_count": 11,
     "metadata": {},
     "output_type": "execute_result"
    }
   ],
   "source": [
    "final_color_accident = data.loc[(data['VehicleType'] == '02 - Automobile') & (data['Accident'] == 'Yes'), ['Color', 'VehicleType', 'Accident']]\n",
    "##final set of colors, automobiles, that were in an accident\n",
    "final_color_accident_no_null = final_color_accident.dropna(axis = 0, subset = ['Color'])\n",
    "#drop any rows with a nan value for color\n",
    "final_color_accident_no_null.Color.value_counts()\n",
    "##Final count on number of automobiles of each color in accidents."
   ]
  },
  {
   "cell_type": "code",
   "execution_count": 12,
   "metadata": {},
   "outputs": [
    {
     "data": {
      "text/plain": [
       "BLACK          296132\n",
       "SILVER         270899\n",
       "WHITE          200018\n",
       "GRAY           166136\n",
       "RED            109366\n",
       "BLUE           104305\n",
       "GREEN           49302\n",
       "GOLD            44366\n",
       "BLUE, DARK      29579\n",
       "TAN             28704\n",
       "MAROON          22952\n",
       "BLUE, LIGHT     18330\n",
       "BEIGE           16315\n",
       "GREEN, DK       13947\n",
       "GREEN, LGT       7604\n",
       "BROWN            6066\n",
       "ORANGE           4913\n",
       "YELLOW           4147\n",
       "BRONZE           3098\n",
       "PURPLE           2609\n",
       "CREAM             825\n",
       "MULTICOLOR        470\n",
       "COPPER            426\n",
       "PINK              192\n",
       "CHROME             39\n",
       "CAMOUFLAGE         25\n",
       "Name: Color, dtype: int64"
      ]
     },
     "execution_count": 12,
     "metadata": {},
     "output_type": "execute_result"
    }
   ],
   "source": [
    "final_color_no_accident = data.loc[(data['VehicleType'] == '02 - Automobile') & (data['Accident'] == 'No'), ['Color', 'VehicleType', 'Accident']]\n",
    "#final set of colors, automobiles, that were NOT in an accident\n",
    "final_color_no_accident_no_null = final_color_no_accident.dropna(axis = 0, subset = ['Color'])\n",
    "#drop any rows with a nan value for color\n",
    "final_color_no_accident_no_null.Color.value_counts()\n",
    "##Final count on number of automobiles of each color not in accidents."
   ]
  },
  {
   "cell_type": "markdown",
   "metadata": {},
   "source": [
    "Answer:  **Looking now at only Automobiles in accidents and not in accidents.**\n",
    "There is quite a difference between the number of automobiles in accidents versus those not.  Also interesting to note how many more vehicles of certain colors exist in this sample and then consider if this affects the outcomes of those having higher accident rates."
   ]
  },
  {
   "cell_type": "markdown",
   "metadata": {},
   "source": [
    "Question:  Does the percentage of those more popular colors show a higher likelihood to be in an accident?"
   ]
  },
  {
   "cell_type": "markdown",
   "metadata": {},
   "source": [
    "The chosen dataset of only the Automobiles from the database of vehicles that were stopped in Montgomery county.  It is not surprising that the most popular colors are black, silver, white, gray, red, and blue.  It is a consideration if drawing a conclusion that black cars get in more accidents than brown for example.  Therefore, there was a need to look at the percentage of accidents of a color, out of the total vehicles of only that color."
   ]
  },
  {
   "cell_type": "code",
   "execution_count": 13,
   "metadata": {},
   "outputs": [
    {
     "data": {
      "text/plain": [
       "BEIGE          2.527184\n",
       "BLACK          2.240856\n",
       "BLUE           2.552388\n",
       "BLUE, DARK     2.649421\n",
       "BLUE, LIGHT    2.385771\n",
       "BRONZE         2.547971\n",
       "BROWN          2.881844\n",
       "CAMOUFLAGE          NaN\n",
       "CHROME         2.500000\n",
       "COPPER         0.930233\n",
       "CREAM          2.366864\n",
       "GOLD           2.408658\n",
       "GRAY           2.443378\n",
       "GREEN          2.720941\n",
       "GREEN, DK      2.930122\n",
       "GREEN, LGT     2.898736\n",
       "MAROON         2.984191\n",
       "MULTICOLOR     7.843137\n",
       "ORANGE         2.442415\n",
       "PINK                NaN\n",
       "PURPLE         2.758107\n",
       "RED            2.517158\n",
       "SILVER         2.334393\n",
       "TAN            2.708199\n",
       "WHITE          2.392629\n",
       "YELLOW         2.054795\n",
       "Name: Color, dtype: float64"
      ]
     },
     "execution_count": 13,
     "metadata": {},
     "output_type": "execute_result"
    }
   ],
   "source": [
    "final_color_accident_no_null['Color'].value_counts().divide(only_automobiles_color_nonull['Color'].value_counts())*100"
   ]
  },
  {
   "cell_type": "code",
   "execution_count": 14,
   "metadata": {},
   "outputs": [
    {
     "data": {
      "text/plain": [
       "BEIGE          2.527184\n",
       "BLACK          2.240856\n",
       "BLUE           2.552388\n",
       "BLUE, DARK     2.649421\n",
       "BLUE, LIGHT    2.385771\n",
       "BRONZE         2.547971\n",
       "BROWN          2.881844\n",
       "CAMOUFLAGE          NaN\n",
       "CHROME         2.500000\n",
       "COPPER         0.930233\n",
       "CREAM          2.366864\n",
       "GOLD           2.408658\n",
       "GRAY           2.443378\n",
       "GREEN          2.720941\n",
       "GREEN, DK      2.930122\n",
       "GREEN, LGT     2.898736\n",
       "MAROON         2.984191\n",
       "MULTICOLOR     7.843137\n",
       "ORANGE         2.442415\n",
       "PINK                NaN\n",
       "PURPLE         2.758107\n",
       "RED            2.517158\n",
       "SILVER         2.334393\n",
       "TAN            2.708199\n",
       "WHITE          2.392629\n",
       "YELLOW         2.054795\n",
       "Name: Color, dtype: float64"
      ]
     },
     "execution_count": 14,
     "metadata": {},
     "output_type": "execute_result"
    }
   ],
   "source": [
    "autos_in_accidents = (final_color_accident_no_null['Color'].value_counts()/only_automobiles_color_nonull['Color'].value_counts())*100\n",
    "autos_in_accidents\n",
    "#Percent of autos of each color in an accident out of total automobiles of each color.  "
   ]
  },
  {
   "cell_type": "code",
   "execution_count": 15,
   "metadata": {},
   "outputs": [
    {
     "data": {
      "text/plain": [
       "BLACK           97.759144\n",
       "SILVER          97.665607\n",
       "WHITE           97.607371\n",
       "GRAY            97.556622\n",
       "RED             97.482842\n",
       "BLUE            97.447612\n",
       "GREEN           97.279059\n",
       "GOLD            97.591342\n",
       "BLUE, DARK      97.350579\n",
       "TAN             97.291801\n",
       "MAROON          97.015809\n",
       "BLUE, LIGHT     97.614229\n",
       "BEIGE           97.472816\n",
       "GREEN, DK       97.069878\n",
       "GREEN, LGT      97.101264\n",
       "BROWN           97.118156\n",
       "ORANGE          97.557585\n",
       "YELLOW          97.945205\n",
       "BRONZE          97.452029\n",
       "PURPLE          97.241893\n",
       "CREAM           97.633136\n",
       "MULTICOLOR      92.156863\n",
       "COPPER          99.069767\n",
       "PINK           100.000000\n",
       "CHROME          97.500000\n",
       "CAMOUFLAGE     100.000000\n",
       "Name: Color, dtype: float64"
      ]
     },
     "execution_count": 15,
     "metadata": {},
     "output_type": "execute_result"
    }
   ],
   "source": [
    "autos_not_in_accidents = (final_color_no_accident_no_null['Color'].value_counts()/only_automobiles_color['Color'].value_counts())*100\n",
    "autos_not_in_accidents\n",
    "#Percent of autos of each color NOT in an accident out of total automobiles of each color."
   ]
  },
  {
   "cell_type": "markdown",
   "metadata": {},
   "source": [
    "Answer:  According to the results, COPPER is the least likely to have been in an accident through the span in this sample, with multicolor being the most likely.  This raises a flag to ask questions;  What colors are in the category of MULTICOLOR?  Why might COPPER be such an outlier?"
   ]
  },
  {
   "cell_type": "code",
   "execution_count": null,
   "metadata": {},
   "outputs": [],
   "source": []
  },
  {
   "cell_type": "markdown",
   "metadata": {},
   "source": [
    "**Visualize Data**"
   ]
  },
  {
   "cell_type": "markdown",
   "metadata": {},
   "source": [
    "Question:  When looking at automobile stops broken by color, are more vehicles in accidents compared to those not in accidents across the board or vice versa?"
   ]
  },
  {
   "cell_type": "code",
   "execution_count": 16,
   "metadata": {},
   "outputs": [],
   "source": [
    "bar_labels = ['BLACK', 'WHITE', 'SILVER', 'GRAY', 'RED', 'GREEN', 'BLUE',\n",
    "        'GREEN, DK', 'BEIGE', 'YELLOW', 'MAROON', 'BROWN', 'BLUE, LIGHT',\n",
    "        'TAN', 'GOLD', 'BLUE, DARK', 'BRONZE', 'ORANGE', 'GREEN, LGT',\n",
    "        'COPPER', 'PURPLE', 'CREAM', 'MULTICOLOR', 'PINK', 'CHROME',\n",
    "        'CAMOUFLAGE']\n",
    "#identifying all colors that are to be represented"
   ]
  },
  {
   "cell_type": "code",
   "execution_count": 17,
   "metadata": {},
   "outputs": [
    {
     "data": {
      "text/plain": [
       "<matplotlib.legend.Legend at 0x7fe4b1d3d550>"
      ]
     },
     "execution_count": 17,
     "metadata": {},
     "output_type": "execute_result"
    },
    {
     "data": {
      "image/png": "[encoded data removed]",
      "text/plain": [
       "<Figure size 432x288 with 1 Axes>"
      ]
     },
     "metadata": {
      "needs_background": "light"
     },
     "output_type": "display_data"
    }
   ],
   "source": [
    "plt3 = autos_not_in_accidents.plot.barh(label ='Autos Not In Accidents', color='green')\n",
    "plt3 = autos_in_accidents.plot.barh(label ='Autos In Accidents', color='blue')\n",
    "\n",
    "plt3.set_xlabel('Percent')\n",
    "plt3.set_ylabel('Color')\n",
    "plt3.set_title('Automobile Accidents')\n",
    "plt3.legend(loc='best')\n",
    "#Visualizing the difference between Autos involved in accidents vs. those not."
   ]
  },
  {
   "cell_type": "code",
   "execution_count": 18,
   "metadata": {},
   "outputs": [
    {
     "data": {
      "text/plain": [
       "Text(0.5, 1.0, 'Automobiles in Accidents')"
      ]
     },
     "execution_count": 18,
     "metadata": {},
     "output_type": "execute_result"
    },
    {
     "data": {
      "image/png": "[encoded data removed]",
      "text/plain": [
       "<Figure size 432x288 with 1 Axes>"
      ]
     },
     "metadata": {
      "needs_background": "light"
     },
     "output_type": "display_data"
    }
   ],
   "source": [
    "plt1 = autos_in_accidents.plot.barh(color='blue')\n",
    "plt1.set_xlabel('Percent')\n",
    "plt1.set_ylabel('Color')\n",
    "plt1.set_title('Automobiles in Accidents')\n",
    "#visualizing more accurately the percentage of Automobiles in Accidents.  "
   ]
  },
  {
   "cell_type": "code",
   "execution_count": 19,
   "metadata": {},
   "outputs": [
    {
     "data": {
      "text/plain": [
       "Text(0.5, 1.0, 'Automobiles Not in Accidents')"
      ]
     },
     "execution_count": 19,
     "metadata": {},
     "output_type": "execute_result"
    },
    {
     "data": {
      "image/png": "[encoded data removed]",
      "text/plain": [
       "<Figure size 432x288 with 1 Axes>"
      ]
     },
     "metadata": {
      "needs_background": "light"
     },
     "output_type": "display_data"
    }
   ],
   "source": [
    "plt2 = autos_not_in_accidents.plot.barh(color='green')\n",
    "plt2.set_xlabel('Percent')\n",
    "plt2.set_ylabel('Color')\n",
    "plt2.set_title('Automobiles Not in Accidents')\n",
    "#visualizing more accurately the percentage of Automobiles Not in Accidents.  "
   ]
  },
  {
   "cell_type": "raw",
   "metadata": {},
   "source": [
    "Answer:  Visually looking at the difference between those in accidents vs. not in accidents tells overall most vehicle stops are not accident related across all colors.  "
   ]
  },
  {
   "cell_type": "code",
   "execution_count": null,
   "metadata": {},
   "outputs": [],
   "source": []
  },
  {
   "cell_type": "code",
   "execution_count": null,
   "metadata": {},
   "outputs": [],
   "source": []
  },
  {
   "cell_type": "markdown",
   "metadata": {},
   "source": [
    "Question:  **Breakdown the data by the dates of the stop.**\n",
    "This is where we begin to see if not only color can help predict an automobiles chance of being in an accident.  Are certain months more prone to have accidents?  Further looking to see if certain years had more accidents?  Can a cause for this spike be identified and is it possible it will occur again?  On the reverse, if certain year had less accidents, can this cause be identified so that perhaps we can reduce accidents annually?"
   ]
  },
  {
   "cell_type": "code",
   "execution_count": 20,
   "metadata": {},
   "outputs": [
    {
     "data": {
      "text/html": [
       "<div>\n",
       "<style scoped>\n",
       "    .dataframe tbody tr th:only-of-type {\n",
       "        vertical-align: middle;\n",
       "    }\n",
       "\n",
       "    .dataframe tbody tr th {\n",
       "        vertical-align: top;\n",
       "    }\n",
       "\n",
       "    .dataframe thead th {\n",
       "        text-align: right;\n",
       "    }\n",
       "</style>\n",
       "<table border=\"1\" class=\"dataframe\">\n",
       "  <thead>\n",
       "    <tr style=\"text-align: right;\">\n",
       "      <th></th>\n",
       "      <th>SeqID</th>\n",
       "      <th>Date Of Stop</th>\n",
       "      <th>Time Of Stop</th>\n",
       "      <th>Agency</th>\n",
       "      <th>SubAgency</th>\n",
       "      <th>Description</th>\n",
       "      <th>Location</th>\n",
       "      <th>Latitude</th>\n",
       "      <th>Longitude</th>\n",
       "      <th>Accident</th>\n",
       "      <th>...</th>\n",
       "      <th>Charge</th>\n",
       "      <th>Article</th>\n",
       "      <th>Contributed To Accident</th>\n",
       "      <th>Race</th>\n",
       "      <th>Gender</th>\n",
       "      <th>Driver City</th>\n",
       "      <th>Driver State</th>\n",
       "      <th>DL State</th>\n",
       "      <th>Arrest Type</th>\n",
       "      <th>Geolocation</th>\n",
       "    </tr>\n",
       "    <tr>\n",
       "      <th>Date Of Stop</th>\n",
       "      <th></th>\n",
       "      <th></th>\n",
       "      <th></th>\n",
       "      <th></th>\n",
       "      <th></th>\n",
       "      <th></th>\n",
       "      <th></th>\n",
       "      <th></th>\n",
       "      <th></th>\n",
       "      <th></th>\n",
       "      <th></th>\n",
       "      <th></th>\n",
       "      <th></th>\n",
       "      <th></th>\n",
       "      <th></th>\n",
       "      <th></th>\n",
       "      <th></th>\n",
       "      <th></th>\n",
       "      <th></th>\n",
       "      <th></th>\n",
       "      <th></th>\n",
       "    </tr>\n",
       "  </thead>\n",
       "  <tbody>\n",
       "    <tr>\n",
       "      <th>2012-01-01</th>\n",
       "      <td>181</td>\n",
       "      <td>181</td>\n",
       "      <td>181</td>\n",
       "      <td>181</td>\n",
       "      <td>181</td>\n",
       "      <td>181</td>\n",
       "      <td>181</td>\n",
       "      <td>181</td>\n",
       "      <td>181</td>\n",
       "      <td>181</td>\n",
       "      <td>...</td>\n",
       "      <td>181</td>\n",
       "      <td>180</td>\n",
       "      <td>181</td>\n",
       "      <td>181</td>\n",
       "      <td>181</td>\n",
       "      <td>181</td>\n",
       "      <td>181</td>\n",
       "      <td>181</td>\n",
       "      <td>181</td>\n",
       "      <td>181</td>\n",
       "    </tr>\n",
       "    <tr>\n",
       "      <th>2012-01-02</th>\n",
       "      <td>334</td>\n",
       "      <td>334</td>\n",
       "      <td>334</td>\n",
       "      <td>334</td>\n",
       "      <td>334</td>\n",
       "      <td>334</td>\n",
       "      <td>334</td>\n",
       "      <td>334</td>\n",
       "      <td>334</td>\n",
       "      <td>334</td>\n",
       "      <td>...</td>\n",
       "      <td>334</td>\n",
       "      <td>334</td>\n",
       "      <td>334</td>\n",
       "      <td>334</td>\n",
       "      <td>334</td>\n",
       "      <td>334</td>\n",
       "      <td>334</td>\n",
       "      <td>329</td>\n",
       "      <td>334</td>\n",
       "      <td>334</td>\n",
       "    </tr>\n",
       "    <tr>\n",
       "      <th>2012-01-03</th>\n",
       "      <td>330</td>\n",
       "      <td>330</td>\n",
       "      <td>330</td>\n",
       "      <td>330</td>\n",
       "      <td>330</td>\n",
       "      <td>330</td>\n",
       "      <td>330</td>\n",
       "      <td>330</td>\n",
       "      <td>330</td>\n",
       "      <td>330</td>\n",
       "      <td>...</td>\n",
       "      <td>330</td>\n",
       "      <td>329</td>\n",
       "      <td>330</td>\n",
       "      <td>330</td>\n",
       "      <td>330</td>\n",
       "      <td>330</td>\n",
       "      <td>330</td>\n",
       "      <td>326</td>\n",
       "      <td>330</td>\n",
       "      <td>330</td>\n",
       "    </tr>\n",
       "    <tr>\n",
       "      <th>2012-01-04</th>\n",
       "      <td>364</td>\n",
       "      <td>364</td>\n",
       "      <td>364</td>\n",
       "      <td>364</td>\n",
       "      <td>364</td>\n",
       "      <td>364</td>\n",
       "      <td>364</td>\n",
       "      <td>364</td>\n",
       "      <td>364</td>\n",
       "      <td>364</td>\n",
       "      <td>...</td>\n",
       "      <td>364</td>\n",
       "      <td>361</td>\n",
       "      <td>364</td>\n",
       "      <td>364</td>\n",
       "      <td>364</td>\n",
       "      <td>364</td>\n",
       "      <td>364</td>\n",
       "      <td>362</td>\n",
       "      <td>364</td>\n",
       "      <td>364</td>\n",
       "    </tr>\n",
       "    <tr>\n",
       "      <th>2012-01-05</th>\n",
       "      <td>465</td>\n",
       "      <td>465</td>\n",
       "      <td>465</td>\n",
       "      <td>465</td>\n",
       "      <td>465</td>\n",
       "      <td>464</td>\n",
       "      <td>465</td>\n",
       "      <td>465</td>\n",
       "      <td>465</td>\n",
       "      <td>465</td>\n",
       "      <td>...</td>\n",
       "      <td>465</td>\n",
       "      <td>463</td>\n",
       "      <td>465</td>\n",
       "      <td>465</td>\n",
       "      <td>465</td>\n",
       "      <td>465</td>\n",
       "      <td>465</td>\n",
       "      <td>461</td>\n",
       "      <td>465</td>\n",
       "      <td>465</td>\n",
       "    </tr>\n",
       "    <tr>\n",
       "      <th>...</th>\n",
       "      <td>...</td>\n",
       "      <td>...</td>\n",
       "      <td>...</td>\n",
       "      <td>...</td>\n",
       "      <td>...</td>\n",
       "      <td>...</td>\n",
       "      <td>...</td>\n",
       "      <td>...</td>\n",
       "      <td>...</td>\n",
       "      <td>...</td>\n",
       "      <td>...</td>\n",
       "      <td>...</td>\n",
       "      <td>...</td>\n",
       "      <td>...</td>\n",
       "      <td>...</td>\n",
       "      <td>...</td>\n",
       "      <td>...</td>\n",
       "      <td>...</td>\n",
       "      <td>...</td>\n",
       "      <td>...</td>\n",
       "      <td>...</td>\n",
       "    </tr>\n",
       "    <tr>\n",
       "      <th>2020-01-12</th>\n",
       "      <td>302</td>\n",
       "      <td>302</td>\n",
       "      <td>302</td>\n",
       "      <td>302</td>\n",
       "      <td>302</td>\n",
       "      <td>302</td>\n",
       "      <td>302</td>\n",
       "      <td>302</td>\n",
       "      <td>302</td>\n",
       "      <td>302</td>\n",
       "      <td>...</td>\n",
       "      <td>302</td>\n",
       "      <td>290</td>\n",
       "      <td>302</td>\n",
       "      <td>302</td>\n",
       "      <td>302</td>\n",
       "      <td>302</td>\n",
       "      <td>302</td>\n",
       "      <td>302</td>\n",
       "      <td>302</td>\n",
       "      <td>302</td>\n",
       "    </tr>\n",
       "    <tr>\n",
       "      <th>2020-01-13</th>\n",
       "      <td>373</td>\n",
       "      <td>373</td>\n",
       "      <td>373</td>\n",
       "      <td>373</td>\n",
       "      <td>373</td>\n",
       "      <td>373</td>\n",
       "      <td>373</td>\n",
       "      <td>373</td>\n",
       "      <td>373</td>\n",
       "      <td>373</td>\n",
       "      <td>...</td>\n",
       "      <td>373</td>\n",
       "      <td>355</td>\n",
       "      <td>373</td>\n",
       "      <td>373</td>\n",
       "      <td>373</td>\n",
       "      <td>373</td>\n",
       "      <td>373</td>\n",
       "      <td>373</td>\n",
       "      <td>373</td>\n",
       "      <td>373</td>\n",
       "    </tr>\n",
       "    <tr>\n",
       "      <th>2020-01-14</th>\n",
       "      <td>469</td>\n",
       "      <td>469</td>\n",
       "      <td>469</td>\n",
       "      <td>469</td>\n",
       "      <td>469</td>\n",
       "      <td>469</td>\n",
       "      <td>469</td>\n",
       "      <td>469</td>\n",
       "      <td>469</td>\n",
       "      <td>469</td>\n",
       "      <td>...</td>\n",
       "      <td>469</td>\n",
       "      <td>449</td>\n",
       "      <td>469</td>\n",
       "      <td>469</td>\n",
       "      <td>469</td>\n",
       "      <td>469</td>\n",
       "      <td>469</td>\n",
       "      <td>469</td>\n",
       "      <td>469</td>\n",
       "      <td>469</td>\n",
       "    </tr>\n",
       "    <tr>\n",
       "      <th>2020-01-15</th>\n",
       "      <td>506</td>\n",
       "      <td>506</td>\n",
       "      <td>506</td>\n",
       "      <td>506</td>\n",
       "      <td>506</td>\n",
       "      <td>506</td>\n",
       "      <td>506</td>\n",
       "      <td>506</td>\n",
       "      <td>506</td>\n",
       "      <td>506</td>\n",
       "      <td>...</td>\n",
       "      <td>506</td>\n",
       "      <td>495</td>\n",
       "      <td>506</td>\n",
       "      <td>506</td>\n",
       "      <td>506</td>\n",
       "      <td>506</td>\n",
       "      <td>506</td>\n",
       "      <td>506</td>\n",
       "      <td>506</td>\n",
       "      <td>506</td>\n",
       "    </tr>\n",
       "    <tr>\n",
       "      <th>2020-01-16</th>\n",
       "      <td>368</td>\n",
       "      <td>368</td>\n",
       "      <td>368</td>\n",
       "      <td>368</td>\n",
       "      <td>368</td>\n",
       "      <td>368</td>\n",
       "      <td>368</td>\n",
       "      <td>368</td>\n",
       "      <td>368</td>\n",
       "      <td>368</td>\n",
       "      <td>...</td>\n",
       "      <td>368</td>\n",
       "      <td>357</td>\n",
       "      <td>368</td>\n",
       "      <td>368</td>\n",
       "      <td>368</td>\n",
       "      <td>368</td>\n",
       "      <td>368</td>\n",
       "      <td>368</td>\n",
       "      <td>368</td>\n",
       "      <td>368</td>\n",
       "    </tr>\n",
       "  </tbody>\n",
       "</table>\n",
       "<p>2937 rows × 43 columns</p>\n",
       "</div>"
      ],
      "text/plain": [
       "              SeqID  Date Of Stop  Time Of Stop  Agency  SubAgency  \\\n",
       "Date Of Stop                                                         \n",
       "2012-01-01      181           181           181     181        181   \n",
       "2012-01-02      334           334           334     334        334   \n",
       "2012-01-03      330           330           330     330        330   \n",
       "2012-01-04      364           364           364     364        364   \n",
       "2012-01-05      465           465           465     465        465   \n",
       "...             ...           ...           ...     ...        ...   \n",
       "2020-01-12      302           302           302     302        302   \n",
       "2020-01-13      373           373           373     373        373   \n",
       "2020-01-14      469           469           469     469        469   \n",
       "2020-01-15      506           506           506     506        506   \n",
       "2020-01-16      368           368           368     368        368   \n",
       "\n",
       "              Description  Location  Latitude  Longitude  Accident  ...  \\\n",
       "Date Of Stop                                                        ...   \n",
       "2012-01-01            181       181       181        181       181  ...   \n",
       "2012-01-02            334       334       334        334       334  ...   \n",
       "2012-01-03            330       330       330        330       330  ...   \n",
       "2012-01-04            364       364       364        364       364  ...   \n",
       "2012-01-05            464       465       465        465       465  ...   \n",
       "...                   ...       ...       ...        ...       ...  ...   \n",
       "2020-01-12            302       302       302        302       302  ...   \n",
       "2020-01-13            373       373       373        373       373  ...   \n",
       "2020-01-14            469       469       469        469       469  ...   \n",
       "2020-01-15            506       506       506        506       506  ...   \n",
       "2020-01-16            368       368       368        368       368  ...   \n",
       "\n",
       "              Charge  Article  Contributed To Accident  Race  Gender  \\\n",
       "Date Of Stop                                                           \n",
       "2012-01-01       181      180                      181   181     181   \n",
       "2012-01-02       334      334                      334   334     334   \n",
       "2012-01-03       330      329                      330   330     330   \n",
       "2012-01-04       364      361                      364   364     364   \n",
       "2012-01-05       465      463                      465   465     465   \n",
       "...              ...      ...                      ...   ...     ...   \n",
       "2020-01-12       302      290                      302   302     302   \n",
       "2020-01-13       373      355                      373   373     373   \n",
       "2020-01-14       469      449                      469   469     469   \n",
       "2020-01-15       506      495                      506   506     506   \n",
       "2020-01-16       368      357                      368   368     368   \n",
       "\n",
       "              Driver City  Driver State  DL State  Arrest Type  Geolocation  \n",
       "Date Of Stop                                                                 \n",
       "2012-01-01            181           181       181          181          181  \n",
       "2012-01-02            334           334       329          334          334  \n",
       "2012-01-03            330           330       326          330          330  \n",
       "2012-01-04            364           364       362          364          364  \n",
       "2012-01-05            465           465       461          465          465  \n",
       "...                   ...           ...       ...          ...          ...  \n",
       "2020-01-12            302           302       302          302          302  \n",
       "2020-01-13            373           373       373          373          373  \n",
       "2020-01-14            469           469       469          469          469  \n",
       "2020-01-15            506           506       506          506          506  \n",
       "2020-01-16            368           368       368          368          368  \n",
       "\n",
       "[2937 rows x 43 columns]"
      ]
     },
     "execution_count": 20,
     "metadata": {},
     "output_type": "execute_result"
    }
   ],
   "source": [
    "data.groupby(by=data['Date Of Stop'].dt.date).count()\n",
    "#Group data by day of the stop"
   ]
  },
  {
   "cell_type": "code",
   "execution_count": 21,
   "metadata": {},
   "outputs": [],
   "source": [
    "auto_accidents_by_date = data[(data['VehicleType'] == '02 - Automobile')& (data['Accident'] == 'Yes')].groupby(by=data['Date Of Stop']).size()\n",
    "#Identify sum of stops for each day."
   ]
  },
  {
   "cell_type": "code",
   "execution_count": 22,
   "metadata": {},
   "outputs": [],
   "source": [
    "data['year'] = data['Date Of Stop'].dt.year\n",
    "#Creating new column, year for stops\n",
    "data['month'] = data['Date Of Stop'].dt.month\n",
    "#Creating new column, month for stops"
   ]
  },
  {
   "cell_type": "code",
   "execution_count": 23,
   "metadata": {},
   "outputs": [
    {
     "data": {
      "text/plain": [
       "5     17397\n",
       "11    13593\n",
       "4     13174\n",
       "10    13162\n",
       "6     13075\n",
       "12    12876\n",
       "8     12116\n",
       "9     12069\n",
       "7     11694\n",
       "3     11624\n",
       "2     10342\n",
       "1     10253\n",
       "Name: month, dtype: int64"
      ]
     },
     "execution_count": 23,
     "metadata": {},
     "output_type": "execute_result"
    }
   ],
   "source": [
    "data[data['year']== 2012]['month'].value_counts()\n",
    "#View the filter frame based on year if desired"
   ]
  },
  {
   "cell_type": "markdown",
   "metadata": {},
   "source": [
    "**Now looking at periods of the year that may have more frequent accidents overall.  To begin with, I created visuals to look at years as a whole, then by month. **"
   ]
  },
  {
   "cell_type": "code",
   "execution_count": 24,
   "metadata": {},
   "outputs": [],
   "source": [
    "df_accident = data[(data['Accident'] == 'Yes')]"
   ]
  },
  {
   "cell_type": "code",
   "execution_count": 25,
   "metadata": {},
   "outputs": [
    {
     "data": {
      "text/html": [
       "<div>\n",
       "<style scoped>\n",
       "    .dataframe tbody tr th:only-of-type {\n",
       "        vertical-align: middle;\n",
       "    }\n",
       "\n",
       "    .dataframe tbody tr th {\n",
       "        vertical-align: top;\n",
       "    }\n",
       "\n",
       "    .dataframe thead th {\n",
       "        text-align: right;\n",
       "    }\n",
       "</style>\n",
       "<table border=\"1\" class=\"dataframe\">\n",
       "  <thead>\n",
       "    <tr style=\"text-align: right;\">\n",
       "      <th></th>\n",
       "      <th></th>\n",
       "      <th>count</th>\n",
       "    </tr>\n",
       "    <tr>\n",
       "      <th>Year</th>\n",
       "      <th>Month</th>\n",
       "      <th></th>\n",
       "    </tr>\n",
       "  </thead>\n",
       "  <tbody>\n",
       "    <tr>\n",
       "      <th rowspan=\"12\" valign=\"top\">2012</th>\n",
       "      <th>1</th>\n",
       "      <td>246</td>\n",
       "    </tr>\n",
       "    <tr>\n",
       "      <th>2</th>\n",
       "      <td>205</td>\n",
       "    </tr>\n",
       "    <tr>\n",
       "      <th>3</th>\n",
       "      <td>224</td>\n",
       "    </tr>\n",
       "    <tr>\n",
       "      <th>4</th>\n",
       "      <td>223</td>\n",
       "    </tr>\n",
       "    <tr>\n",
       "      <th>5</th>\n",
       "      <td>430</td>\n",
       "    </tr>\n",
       "    <tr>\n",
       "      <th>6</th>\n",
       "      <td>317</td>\n",
       "    </tr>\n",
       "    <tr>\n",
       "      <th>7</th>\n",
       "      <td>259</td>\n",
       "    </tr>\n",
       "    <tr>\n",
       "      <th>8</th>\n",
       "      <td>325</td>\n",
       "    </tr>\n",
       "    <tr>\n",
       "      <th>9</th>\n",
       "      <td>367</td>\n",
       "    </tr>\n",
       "    <tr>\n",
       "      <th>10</th>\n",
       "      <td>309</td>\n",
       "    </tr>\n",
       "    <tr>\n",
       "      <th>11</th>\n",
       "      <td>332</td>\n",
       "    </tr>\n",
       "    <tr>\n",
       "      <th>12</th>\n",
       "      <td>406</td>\n",
       "    </tr>\n",
       "    <tr>\n",
       "      <th rowspan=\"12\" valign=\"top\">2013</th>\n",
       "      <th>1</th>\n",
       "      <td>365</td>\n",
       "    </tr>\n",
       "    <tr>\n",
       "      <th>2</th>\n",
       "      <td>284</td>\n",
       "    </tr>\n",
       "    <tr>\n",
       "      <th>3</th>\n",
       "      <td>317</td>\n",
       "    </tr>\n",
       "    <tr>\n",
       "      <th>4</th>\n",
       "      <td>404</td>\n",
       "    </tr>\n",
       "    <tr>\n",
       "      <th>5</th>\n",
       "      <td>497</td>\n",
       "    </tr>\n",
       "    <tr>\n",
       "      <th>6</th>\n",
       "      <td>415</td>\n",
       "    </tr>\n",
       "    <tr>\n",
       "      <th>7</th>\n",
       "      <td>387</td>\n",
       "    </tr>\n",
       "    <tr>\n",
       "      <th>8</th>\n",
       "      <td>385</td>\n",
       "    </tr>\n",
       "    <tr>\n",
       "      <th>9</th>\n",
       "      <td>345</td>\n",
       "    </tr>\n",
       "    <tr>\n",
       "      <th>10</th>\n",
       "      <td>443</td>\n",
       "    </tr>\n",
       "    <tr>\n",
       "      <th>11</th>\n",
       "      <td>441</td>\n",
       "    </tr>\n",
       "    <tr>\n",
       "      <th>12</th>\n",
       "      <td>341</td>\n",
       "    </tr>\n",
       "    <tr>\n",
       "      <th rowspan=\"12\" valign=\"top\">2014</th>\n",
       "      <th>1</th>\n",
       "      <td>325</td>\n",
       "    </tr>\n",
       "    <tr>\n",
       "      <th>2</th>\n",
       "      <td>324</td>\n",
       "    </tr>\n",
       "    <tr>\n",
       "      <th>3</th>\n",
       "      <td>348</td>\n",
       "    </tr>\n",
       "    <tr>\n",
       "      <th>4</th>\n",
       "      <td>327</td>\n",
       "    </tr>\n",
       "    <tr>\n",
       "      <th>5</th>\n",
       "      <td>492</td>\n",
       "    </tr>\n",
       "    <tr>\n",
       "      <th>6</th>\n",
       "      <td>426</td>\n",
       "    </tr>\n",
       "    <tr>\n",
       "      <th>7</th>\n",
       "      <td>386</td>\n",
       "    </tr>\n",
       "    <tr>\n",
       "      <th>8</th>\n",
       "      <td>406</td>\n",
       "    </tr>\n",
       "    <tr>\n",
       "      <th>9</th>\n",
       "      <td>358</td>\n",
       "    </tr>\n",
       "    <tr>\n",
       "      <th>10</th>\n",
       "      <td>460</td>\n",
       "    </tr>\n",
       "    <tr>\n",
       "      <th>11</th>\n",
       "      <td>393</td>\n",
       "    </tr>\n",
       "    <tr>\n",
       "      <th>12</th>\n",
       "      <td>486</td>\n",
       "    </tr>\n",
       "    <tr>\n",
       "      <th rowspan=\"12\" valign=\"top\">2015</th>\n",
       "      <th>1</th>\n",
       "      <td>415</td>\n",
       "    </tr>\n",
       "    <tr>\n",
       "      <th>2</th>\n",
       "      <td>409</td>\n",
       "    </tr>\n",
       "    <tr>\n",
       "      <th>3</th>\n",
       "      <td>297</td>\n",
       "    </tr>\n",
       "    <tr>\n",
       "      <th>4</th>\n",
       "      <td>335</td>\n",
       "    </tr>\n",
       "    <tr>\n",
       "      <th>5</th>\n",
       "      <td>528</td>\n",
       "    </tr>\n",
       "    <tr>\n",
       "      <th>6</th>\n",
       "      <td>472</td>\n",
       "    </tr>\n",
       "    <tr>\n",
       "      <th>7</th>\n",
       "      <td>363</td>\n",
       "    </tr>\n",
       "    <tr>\n",
       "      <th>8</th>\n",
       "      <td>349</td>\n",
       "    </tr>\n",
       "    <tr>\n",
       "      <th>9</th>\n",
       "      <td>368</td>\n",
       "    </tr>\n",
       "    <tr>\n",
       "      <th>10</th>\n",
       "      <td>542</td>\n",
       "    </tr>\n",
       "    <tr>\n",
       "      <th>11</th>\n",
       "      <td>432</td>\n",
       "    </tr>\n",
       "    <tr>\n",
       "      <th>12</th>\n",
       "      <td>529</td>\n",
       "    </tr>\n",
       "    <tr>\n",
       "      <th rowspan=\"12\" valign=\"top\">2016</th>\n",
       "      <th>1</th>\n",
       "      <td>376</td>\n",
       "    </tr>\n",
       "    <tr>\n",
       "      <th>2</th>\n",
       "      <td>348</td>\n",
       "    </tr>\n",
       "    <tr>\n",
       "      <th>3</th>\n",
       "      <td>494</td>\n",
       "    </tr>\n",
       "    <tr>\n",
       "      <th>4</th>\n",
       "      <td>464</td>\n",
       "    </tr>\n",
       "    <tr>\n",
       "      <th>5</th>\n",
       "      <td>505</td>\n",
       "    </tr>\n",
       "    <tr>\n",
       "      <th>6</th>\n",
       "      <td>441</td>\n",
       "    </tr>\n",
       "    <tr>\n",
       "      <th>7</th>\n",
       "      <td>435</td>\n",
       "    </tr>\n",
       "    <tr>\n",
       "      <th>8</th>\n",
       "      <td>455</td>\n",
       "    </tr>\n",
       "    <tr>\n",
       "      <th>9</th>\n",
       "      <td>573</td>\n",
       "    </tr>\n",
       "    <tr>\n",
       "      <th>10</th>\n",
       "      <td>580</td>\n",
       "    </tr>\n",
       "    <tr>\n",
       "      <th>11</th>\n",
       "      <td>400</td>\n",
       "    </tr>\n",
       "    <tr>\n",
       "      <th>12</th>\n",
       "      <td>621</td>\n",
       "    </tr>\n",
       "    <tr>\n",
       "      <th rowspan=\"12\" valign=\"top\">2017</th>\n",
       "      <th>1</th>\n",
       "      <td>523</td>\n",
       "    </tr>\n",
       "    <tr>\n",
       "      <th>2</th>\n",
       "      <td>437</td>\n",
       "    </tr>\n",
       "    <tr>\n",
       "      <th>3</th>\n",
       "      <td>448</td>\n",
       "    </tr>\n",
       "    <tr>\n",
       "      <th>4</th>\n",
       "      <td>510</td>\n",
       "    </tr>\n",
       "    <tr>\n",
       "      <th>5</th>\n",
       "      <td>529</td>\n",
       "    </tr>\n",
       "    <tr>\n",
       "      <th>6</th>\n",
       "      <td>428</td>\n",
       "    </tr>\n",
       "    <tr>\n",
       "      <th>7</th>\n",
       "      <td>454</td>\n",
       "    </tr>\n",
       "    <tr>\n",
       "      <th>8</th>\n",
       "      <td>449</td>\n",
       "    </tr>\n",
       "    <tr>\n",
       "      <th>9</th>\n",
       "      <td>457</td>\n",
       "    </tr>\n",
       "    <tr>\n",
       "      <th>10</th>\n",
       "      <td>533</td>\n",
       "    </tr>\n",
       "    <tr>\n",
       "      <th>11</th>\n",
       "      <td>477</td>\n",
       "    </tr>\n",
       "    <tr>\n",
       "      <th>12</th>\n",
       "      <td>536</td>\n",
       "    </tr>\n",
       "    <tr>\n",
       "      <th rowspan=\"12\" valign=\"top\">2018</th>\n",
       "      <th>1</th>\n",
       "      <td>458</td>\n",
       "    </tr>\n",
       "    <tr>\n",
       "      <th>2</th>\n",
       "      <td>354</td>\n",
       "    </tr>\n",
       "    <tr>\n",
       "      <th>3</th>\n",
       "      <td>314</td>\n",
       "    </tr>\n",
       "    <tr>\n",
       "      <th>4</th>\n",
       "      <td>382</td>\n",
       "    </tr>\n",
       "    <tr>\n",
       "      <th>5</th>\n",
       "      <td>407</td>\n",
       "    </tr>\n",
       "    <tr>\n",
       "      <th>6</th>\n",
       "      <td>483</td>\n",
       "    </tr>\n",
       "    <tr>\n",
       "      <th>7</th>\n",
       "      <td>431</td>\n",
       "    </tr>\n",
       "    <tr>\n",
       "      <th>8</th>\n",
       "      <td>386</td>\n",
       "    </tr>\n",
       "    <tr>\n",
       "      <th>9</th>\n",
       "      <td>393</td>\n",
       "    </tr>\n",
       "    <tr>\n",
       "      <th>10</th>\n",
       "      <td>502</td>\n",
       "    </tr>\n",
       "    <tr>\n",
       "      <th>11</th>\n",
       "      <td>445</td>\n",
       "    </tr>\n",
       "    <tr>\n",
       "      <th>12</th>\n",
       "      <td>472</td>\n",
       "    </tr>\n",
       "    <tr>\n",
       "      <th rowspan=\"12\" valign=\"top\">2019</th>\n",
       "      <th>1</th>\n",
       "      <td>353</td>\n",
       "    </tr>\n",
       "    <tr>\n",
       "      <th>2</th>\n",
       "      <td>398</td>\n",
       "    </tr>\n",
       "    <tr>\n",
       "      <th>3</th>\n",
       "      <td>439</td>\n",
       "    </tr>\n",
       "    <tr>\n",
       "      <th>4</th>\n",
       "      <td>325</td>\n",
       "    </tr>\n",
       "    <tr>\n",
       "      <th>5</th>\n",
       "      <td>353</td>\n",
       "    </tr>\n",
       "    <tr>\n",
       "      <th>6</th>\n",
       "      <td>462</td>\n",
       "    </tr>\n",
       "    <tr>\n",
       "      <th>7</th>\n",
       "      <td>454</td>\n",
       "    </tr>\n",
       "    <tr>\n",
       "      <th>8</th>\n",
       "      <td>367</td>\n",
       "    </tr>\n",
       "    <tr>\n",
       "      <th>9</th>\n",
       "      <td>431</td>\n",
       "    </tr>\n",
       "    <tr>\n",
       "      <th>10</th>\n",
       "      <td>436</td>\n",
       "    </tr>\n",
       "    <tr>\n",
       "      <th>11</th>\n",
       "      <td>386</td>\n",
       "    </tr>\n",
       "    <tr>\n",
       "      <th>12</th>\n",
       "      <td>448</td>\n",
       "    </tr>\n",
       "    <tr>\n",
       "      <th>2020</th>\n",
       "      <th>1</th>\n",
       "      <td>203</td>\n",
       "    </tr>\n",
       "  </tbody>\n",
       "</table>\n",
       "</div>"
      ],
      "text/plain": [
       "            count\n",
       "Year Month       \n",
       "2012 1        246\n",
       "     2        205\n",
       "     3        224\n",
       "     4        223\n",
       "     5        430\n",
       "     6        317\n",
       "     7        259\n",
       "     8        325\n",
       "     9        367\n",
       "     10       309\n",
       "     11       332\n",
       "     12       406\n",
       "2013 1        365\n",
       "     2        284\n",
       "     3        317\n",
       "     4        404\n",
       "     5        497\n",
       "     6        415\n",
       "     7        387\n",
       "     8        385\n",
       "     9        345\n",
       "     10       443\n",
       "     11       441\n",
       "     12       341\n",
       "2014 1        325\n",
       "     2        324\n",
       "     3        348\n",
       "     4        327\n",
       "     5        492\n",
       "     6        426\n",
       "     7        386\n",
       "     8        406\n",
       "     9        358\n",
       "     10       460\n",
       "     11       393\n",
       "     12       486\n",
       "2015 1        415\n",
       "     2        409\n",
       "     3        297\n",
       "     4        335\n",
       "     5        528\n",
       "     6        472\n",
       "     7        363\n",
       "     8        349\n",
       "     9        368\n",
       "     10       542\n",
       "     11       432\n",
       "     12       529\n",
       "2016 1        376\n",
       "     2        348\n",
       "     3        494\n",
       "     4        464\n",
       "     5        505\n",
       "     6        441\n",
       "     7        435\n",
       "     8        455\n",
       "     9        573\n",
       "     10       580\n",
       "     11       400\n",
       "     12       621\n",
       "2017 1        523\n",
       "     2        437\n",
       "     3        448\n",
       "     4        510\n",
       "     5        529\n",
       "     6        428\n",
       "     7        454\n",
       "     8        449\n",
       "     9        457\n",
       "     10       533\n",
       "     11       477\n",
       "     12       536\n",
       "2018 1        458\n",
       "     2        354\n",
       "     3        314\n",
       "     4        382\n",
       "     5        407\n",
       "     6        483\n",
       "     7        431\n",
       "     8        386\n",
       "     9        393\n",
       "     10       502\n",
       "     11       445\n",
       "     12       472\n",
       "2019 1        353\n",
       "     2        398\n",
       "     3        439\n",
       "     4        325\n",
       "     5        353\n",
       "     6        462\n",
       "     7        454\n",
       "     8        367\n",
       "     9        431\n",
       "     10       436\n",
       "     11       386\n",
       "     12       448\n",
       "2020 1        203"
      ]
     },
     "execution_count": 25,
     "metadata": {},
     "output_type": "execute_result"
    }
   ],
   "source": [
    "#dataframe showing all 7 years with monthly sums.\n",
    "###HOW TO MAKE THIS ONLY ACCIDENT STOPS, (data['Accident'] == 'Yes')\n",
    "\n",
    "pd.set_option('display.max_rows',100)\n",
    "year_month_count = df_accident['Date Of Stop'].groupby([df_accident['Date Of Stop'].rename('Year').dt.year, df_accident['Date Of Stop'].rename('Month').dt.month]).agg({'count'})\n",
    "year_month_count"
   ]
  },
  {
   "cell_type": "code",
   "execution_count": 26,
   "metadata": {},
   "outputs": [
    {
     "data": {
      "text/plain": [
       "Index(['count'], dtype='object')"
      ]
     },
     "execution_count": 26,
     "metadata": {},
     "output_type": "execute_result"
    }
   ],
   "source": [
    "year_month_count.columns"
   ]
  },
  {
   "cell_type": "code",
   "execution_count": 27,
   "metadata": {},
   "outputs": [
    {
     "data": {
      "image/png": "[encoded data removed]",
      "text/plain": [
       "<Figure size 2721.6x432 with 9 Axes>"
      ]
     },
     "metadata": {
      "needs_background": "light"
     },
     "output_type": "display_data"
    }
   ],
   "source": [
    "g = sns.catplot(x=\"month\",hue = 'month',\n",
    "              col=\"year\",\n",
    "             data=data, kind=\"count\",\n",
    "           height=6, aspect=.7);\n",
    "#View all years and month sums in one visual."
   ]
  },
  {
   "cell_type": "markdown",
   "metadata": {},
   "source": [
    "* https://seaborn.pydata.org/generated/seaborn.countplot.html\n",
    "    https://seaborn.pydata.org/generated/seaborn.barplot.html"
   ]
  },
  {
   "cell_type": "markdown",
   "metadata": {},
   "source": [
    "**##Curiousity at particular months in each year that appear to have the highest numbers. What happened during this time to cause this?  Number of cars on the road, gas prices, weather. **"
   ]
  },
  {
   "cell_type": "code",
   "execution_count": 28,
   "metadata": {},
   "outputs": [],
   "source": [
    "monthly_sum = auto_accidents_by_date.resample('M').sum()\n",
    "yearly_sum = auto_accidents_by_date.resample('Y').sum()\n",
    "#Create a sum variable to use for line graph"
   ]
  },
  {
   "cell_type": "code",
   "execution_count": 29,
   "metadata": {},
   "outputs": [
    {
     "data": {
      "text/plain": [
       "Date Of Stop\n",
       "2012-12-31    3144\n",
       "2013-12-31    3893\n",
       "2014-12-31    4024\n",
       "2015-12-31    4452\n",
       "2016-12-31    5023\n",
       "2017-12-31    5264\n",
       "2018-12-31    4508\n",
       "2019-12-31    4460\n",
       "2020-12-31     179\n",
       "Freq: A-DEC, dtype: int64"
      ]
     },
     "execution_count": 29,
     "metadata": {},
     "output_type": "execute_result"
    }
   ],
   "source": [
    "yearly_sum"
   ]
  },
  {
   "cell_type": "code",
   "execution_count": 30,
   "metadata": {},
   "outputs": [
    {
     "data": {
      "text/plain": [
       "<matplotlib.legend.Legend at 0x7fe4ac8b3eb8>"
      ]
     },
     "execution_count": 30,
     "metadata": {},
     "output_type": "execute_result"
    },
    {
     "data": {
      "image/png": "[encoded data removed]",
      "text/plain": [
       "<Figure size 2160x720 with 1 Axes>"
      ]
     },
     "metadata": {
      "needs_background": "light"
     },
     "output_type": "display_data"
    }
   ],
   "source": [
    "plt4 = monthly_sum.plot(figsize=(30,10), label = 'Monthy Sum', color = 'red')\n",
    "plt4.set_xlabel('Date Of Accident')\n",
    "plt4.set_ylabel('Number of Automobile Accidents')\n",
    "plt4.set_title('Automobile Accidents')\n",
    "\n",
    "plt4 = yearly_sum.plot(figsize=(30,10), label = 'Yearly Sum', color = 'blue')\n",
    "plt4.set_xlabel('Date Of Accident')\n",
    "plt4.set_ylabel('Number of Automobile Accidents')\n",
    "plt4.set_title('Automobile Accidents')\n",
    "\n",
    "plt4 = auto_accidents_by_date.plot(figsize=(30,10), label = 'Daily Sum',  color = 'black')\n",
    "plt4.set_xlabel('Date Of Accident')\n",
    "plt4.set_ylabel('Number of Automobile Accidents')\n",
    "plt4.set_title('Automobile Accidents')\n",
    "plt4.legend(loc='best')\n",
    "#Line graphs to see a visual for any spikes or drops."
   ]
  },
  {
   "cell_type": "markdown",
   "metadata": {},
   "source": [
    "**##Interesting that the yearly sum appears to spike in 2017.  Curiousity as to what may have caused this.  Need to investigate the weather patterns potentially affecting it.**"
   ]
  },
  {
   "cell_type": "code",
   "execution_count": 31,
   "metadata": {},
   "outputs": [
    {
     "data": {
      "text/html": [
       "<div>\n",
       "<style scoped>\n",
       "    .dataframe tbody tr th:only-of-type {\n",
       "        vertical-align: middle;\n",
       "    }\n",
       "\n",
       "    .dataframe tbody tr th {\n",
       "        vertical-align: top;\n",
       "    }\n",
       "\n",
       "    .dataframe thead tr th {\n",
       "        text-align: left;\n",
       "    }\n",
       "\n",
       "    .dataframe thead tr:last-of-type th {\n",
       "        text-align: right;\n",
       "    }\n",
       "</style>\n",
       "<table border=\"1\" class=\"dataframe\">\n",
       "  <thead>\n",
       "    <tr>\n",
       "      <th></th>\n",
       "      <th colspan=\"9\" halign=\"left\">count</th>\n",
       "    </tr>\n",
       "    <tr>\n",
       "      <th>Year</th>\n",
       "      <th>2012</th>\n",
       "      <th>2013</th>\n",
       "      <th>2014</th>\n",
       "      <th>2015</th>\n",
       "      <th>2016</th>\n",
       "      <th>2017</th>\n",
       "      <th>2018</th>\n",
       "      <th>2019</th>\n",
       "      <th>2020</th>\n",
       "    </tr>\n",
       "    <tr>\n",
       "      <th>Month</th>\n",
       "      <th></th>\n",
       "      <th></th>\n",
       "      <th></th>\n",
       "      <th></th>\n",
       "      <th></th>\n",
       "      <th></th>\n",
       "      <th></th>\n",
       "      <th></th>\n",
       "      <th></th>\n",
       "    </tr>\n",
       "  </thead>\n",
       "  <tbody>\n",
       "    <tr>\n",
       "      <th>1</th>\n",
       "      <td>246.0</td>\n",
       "      <td>365.0</td>\n",
       "      <td>325.0</td>\n",
       "      <td>415.0</td>\n",
       "      <td>376.0</td>\n",
       "      <td>523.0</td>\n",
       "      <td>458.0</td>\n",
       "      <td>353.0</td>\n",
       "      <td>203.0</td>\n",
       "    </tr>\n",
       "    <tr>\n",
       "      <th>2</th>\n",
       "      <td>205.0</td>\n",
       "      <td>284.0</td>\n",
       "      <td>324.0</td>\n",
       "      <td>409.0</td>\n",
       "      <td>348.0</td>\n",
       "      <td>437.0</td>\n",
       "      <td>354.0</td>\n",
       "      <td>398.0</td>\n",
       "      <td>NaN</td>\n",
       "    </tr>\n",
       "    <tr>\n",
       "      <th>3</th>\n",
       "      <td>224.0</td>\n",
       "      <td>317.0</td>\n",
       "      <td>348.0</td>\n",
       "      <td>297.0</td>\n",
       "      <td>494.0</td>\n",
       "      <td>448.0</td>\n",
       "      <td>314.0</td>\n",
       "      <td>439.0</td>\n",
       "      <td>NaN</td>\n",
       "    </tr>\n",
       "    <tr>\n",
       "      <th>4</th>\n",
       "      <td>223.0</td>\n",
       "      <td>404.0</td>\n",
       "      <td>327.0</td>\n",
       "      <td>335.0</td>\n",
       "      <td>464.0</td>\n",
       "      <td>510.0</td>\n",
       "      <td>382.0</td>\n",
       "      <td>325.0</td>\n",
       "      <td>NaN</td>\n",
       "    </tr>\n",
       "    <tr>\n",
       "      <th>5</th>\n",
       "      <td>430.0</td>\n",
       "      <td>497.0</td>\n",
       "      <td>492.0</td>\n",
       "      <td>528.0</td>\n",
       "      <td>505.0</td>\n",
       "      <td>529.0</td>\n",
       "      <td>407.0</td>\n",
       "      <td>353.0</td>\n",
       "      <td>NaN</td>\n",
       "    </tr>\n",
       "    <tr>\n",
       "      <th>6</th>\n",
       "      <td>317.0</td>\n",
       "      <td>415.0</td>\n",
       "      <td>426.0</td>\n",
       "      <td>472.0</td>\n",
       "      <td>441.0</td>\n",
       "      <td>428.0</td>\n",
       "      <td>483.0</td>\n",
       "      <td>462.0</td>\n",
       "      <td>NaN</td>\n",
       "    </tr>\n",
       "    <tr>\n",
       "      <th>7</th>\n",
       "      <td>259.0</td>\n",
       "      <td>387.0</td>\n",
       "      <td>386.0</td>\n",
       "      <td>363.0</td>\n",
       "      <td>435.0</td>\n",
       "      <td>454.0</td>\n",
       "      <td>431.0</td>\n",
       "      <td>454.0</td>\n",
       "      <td>NaN</td>\n",
       "    </tr>\n",
       "    <tr>\n",
       "      <th>8</th>\n",
       "      <td>325.0</td>\n",
       "      <td>385.0</td>\n",
       "      <td>406.0</td>\n",
       "      <td>349.0</td>\n",
       "      <td>455.0</td>\n",
       "      <td>449.0</td>\n",
       "      <td>386.0</td>\n",
       "      <td>367.0</td>\n",
       "      <td>NaN</td>\n",
       "    </tr>\n",
       "    <tr>\n",
       "      <th>9</th>\n",
       "      <td>367.0</td>\n",
       "      <td>345.0</td>\n",
       "      <td>358.0</td>\n",
       "      <td>368.0</td>\n",
       "      <td>573.0</td>\n",
       "      <td>457.0</td>\n",
       "      <td>393.0</td>\n",
       "      <td>431.0</td>\n",
       "      <td>NaN</td>\n",
       "    </tr>\n",
       "    <tr>\n",
       "      <th>10</th>\n",
       "      <td>309.0</td>\n",
       "      <td>443.0</td>\n",
       "      <td>460.0</td>\n",
       "      <td>542.0</td>\n",
       "      <td>580.0</td>\n",
       "      <td>533.0</td>\n",
       "      <td>502.0</td>\n",
       "      <td>436.0</td>\n",
       "      <td>NaN</td>\n",
       "    </tr>\n",
       "    <tr>\n",
       "      <th>11</th>\n",
       "      <td>332.0</td>\n",
       "      <td>441.0</td>\n",
       "      <td>393.0</td>\n",
       "      <td>432.0</td>\n",
       "      <td>400.0</td>\n",
       "      <td>477.0</td>\n",
       "      <td>445.0</td>\n",
       "      <td>386.0</td>\n",
       "      <td>NaN</td>\n",
       "    </tr>\n",
       "    <tr>\n",
       "      <th>12</th>\n",
       "      <td>406.0</td>\n",
       "      <td>341.0</td>\n",
       "      <td>486.0</td>\n",
       "      <td>529.0</td>\n",
       "      <td>621.0</td>\n",
       "      <td>536.0</td>\n",
       "      <td>472.0</td>\n",
       "      <td>448.0</td>\n",
       "      <td>NaN</td>\n",
       "    </tr>\n",
       "  </tbody>\n",
       "</table>\n",
       "</div>"
      ],
      "text/plain": [
       "       count                                                        \n",
       "Year    2012   2013   2014   2015   2016   2017   2018   2019   2020\n",
       "Month                                                               \n",
       "1      246.0  365.0  325.0  415.0  376.0  523.0  458.0  353.0  203.0\n",
       "2      205.0  284.0  324.0  409.0  348.0  437.0  354.0  398.0    NaN\n",
       "3      224.0  317.0  348.0  297.0  494.0  448.0  314.0  439.0    NaN\n",
       "4      223.0  404.0  327.0  335.0  464.0  510.0  382.0  325.0    NaN\n",
       "5      430.0  497.0  492.0  528.0  505.0  529.0  407.0  353.0    NaN\n",
       "6      317.0  415.0  426.0  472.0  441.0  428.0  483.0  462.0    NaN\n",
       "7      259.0  387.0  386.0  363.0  435.0  454.0  431.0  454.0    NaN\n",
       "8      325.0  385.0  406.0  349.0  455.0  449.0  386.0  367.0    NaN\n",
       "9      367.0  345.0  358.0  368.0  573.0  457.0  393.0  431.0    NaN\n",
       "10     309.0  443.0  460.0  542.0  580.0  533.0  502.0  436.0    NaN\n",
       "11     332.0  441.0  393.0  432.0  400.0  477.0  445.0  386.0    NaN\n",
       "12     406.0  341.0  486.0  529.0  621.0  536.0  472.0  448.0    NaN"
      ]
     },
     "execution_count": 31,
     "metadata": {},
     "output_type": "execute_result"
    }
   ],
   "source": [
    "year_month_count.unstack(level=0)\n",
    "#Easy viewing comparison on total accidents each year.  Consider reuploading the csv file with dates through current, but only want to include through 2019, December."
   ]
  },
  {
   "cell_type": "markdown",
   "metadata": {},
   "source": [
    "Answer:  There is a spike in 2017 and a low in 2012.  Several months in 2012 are low compared to all months.  September, October, and December of 2016 are significantly higher than most months recorded.  Time to consider what causes this. Are there less vehicles on the road due to weather, the economy, politics, etc.?  Now to identify if these are event that could occcur again and be predicted, leading to potentially reducing annual and monthly accidents.  \n"
   ]
  },
  {
   "cell_type": "code",
   "execution_count": null,
   "metadata": {},
   "outputs": [],
   "source": []
  },
  {
   "cell_type": "markdown",
   "metadata": {},
   "source": [
    "> Question:  What was the distribution for the number of automobile stops that were considered accidents each day over the entire span?"
   ]
  },
  {
   "cell_type": "code",
   "execution_count": 32,
   "metadata": {},
   "outputs": [
    {
     "data": {
      "text/plain": [
       "count    2908.000000\n",
       "mean       12.017538\n",
       "std         8.065481\n",
       "min         1.000000\n",
       "25%         6.000000\n",
       "50%        10.000000\n",
       "75%        16.000000\n",
       "max        56.000000\n",
       "dtype: float64"
      ]
     },
     "execution_count": 32,
     "metadata": {},
     "output_type": "execute_result"
    }
   ],
   "source": [
    "\n",
    "auto_accidents_by_date.describe()"
   ]
  },
  {
   "cell_type": "markdown",
   "metadata": {},
   "source": [
    "Answer:  Above shows the maximum number of accidents in one day through the years was 56.  The minimum being 1.  The average, mean, per day over all years was about 12 accidents."
   ]
  },
  {
   "cell_type": "code",
   "execution_count": null,
   "metadata": {},
   "outputs": [],
   "source": []
  },
  {
   "cell_type": "markdown",
   "metadata": {},
   "source": [
    "Question:  What was the distribution for the number of automobile stops that were considered accidents each month over the entire span?"
   ]
  },
  {
   "cell_type": "code",
   "execution_count": 33,
   "metadata": {},
   "outputs": [
    {
     "data": {
      "text/html": [
       "<div>\n",
       "<style scoped>\n",
       "    .dataframe tbody tr th:only-of-type {\n",
       "        vertical-align: middle;\n",
       "    }\n",
       "\n",
       "    .dataframe tbody tr th {\n",
       "        vertical-align: top;\n",
       "    }\n",
       "\n",
       "    .dataframe thead th {\n",
       "        text-align: right;\n",
       "    }\n",
       "</style>\n",
       "<table border=\"1\" class=\"dataframe\">\n",
       "  <thead>\n",
       "    <tr style=\"text-align: right;\">\n",
       "      <th></th>\n",
       "      <th>count</th>\n",
       "    </tr>\n",
       "  </thead>\n",
       "  <tbody>\n",
       "    <tr>\n",
       "      <th>count</th>\n",
       "      <td>97.000000</td>\n",
       "    </tr>\n",
       "    <tr>\n",
       "      <th>mean</th>\n",
       "      <td>408.164948</td>\n",
       "    </tr>\n",
       "    <tr>\n",
       "      <th>std</th>\n",
       "      <td>83.727320</td>\n",
       "    </tr>\n",
       "    <tr>\n",
       "      <th>min</th>\n",
       "      <td>203.000000</td>\n",
       "    </tr>\n",
       "    <tr>\n",
       "      <th>25%</th>\n",
       "      <td>353.000000</td>\n",
       "    </tr>\n",
       "    <tr>\n",
       "      <th>50%</th>\n",
       "      <td>409.000000</td>\n",
       "    </tr>\n",
       "    <tr>\n",
       "      <th>75%</th>\n",
       "      <td>458.000000</td>\n",
       "    </tr>\n",
       "    <tr>\n",
       "      <th>max</th>\n",
       "      <td>621.000000</td>\n",
       "    </tr>\n",
       "  </tbody>\n",
       "</table>\n",
       "</div>"
      ],
      "text/plain": [
       "            count\n",
       "count   97.000000\n",
       "mean   408.164948\n",
       "std     83.727320\n",
       "min    203.000000\n",
       "25%    353.000000\n",
       "50%    409.000000\n",
       "75%    458.000000\n",
       "max    621.000000"
      ]
     },
     "execution_count": 33,
     "metadata": {},
     "output_type": "execute_result"
    }
   ],
   "source": [
    "year_month_count.describe()"
   ]
  },
  {
   "cell_type": "markdown",
   "metadata": {},
   "source": [
    "Answer:  Above shows the maximum number of accidents in one year through the years 22,601.  The minimum being 7,372.  The average, mean, per year over all years was about 16,932 accidents."
   ]
  },
  {
   "cell_type": "code",
   "execution_count": null,
   "metadata": {},
   "outputs": [],
   "source": []
  },
  {
   "cell_type": "markdown",
   "metadata": {},
   "source": [
    "**Find Correlations**\n",
    "Investigating relationships between the variables to understand how and if there are influencers.  There are interesting distributions related to the Automobile accidents.  This section is where the testing happened two of the hypotheses that were in mind during this study.  "
   ]
  },
  {
   "cell_type": "markdown",
   "metadata": {},
   "source": [
    "**Null Hypothesis:**\n",
    "There is no statistical significance in the likelihood of an Automobile getting into an accident related to color.\n",
    "\n",
    "**Alternative Hypothesis:**\n",
    "Certain colors of Automobiles show a higher likelihood for getting in an accident."
   ]
  },
  {
   "cell_type": "code",
   "execution_count": 34,
   "metadata": {},
   "outputs": [
    {
     "name": "stdout",
     "output_type": "stream",
     "text": [
      "contingency_table :-\n",
      " Accident         No   Yes\n",
      "Color                    \n",
      "BEIGE         17403   462\n",
      "BLACK        327580  7426\n",
      "BLUE         116152  3097\n",
      "BLUE, DARK    33520   908\n",
      "BLUE, LIGHT   20188   520\n",
      "BRONZE         3622    85\n",
      "BROWN          7122   202\n",
      "CAMOUFLAGE       34     0\n",
      "CHROME           40     1\n",
      "COPPER          494     4\n",
      "CREAM           926    25\n",
      "GOLD          48152  1222\n",
      "GRAY         181708  4450\n",
      "GREEN         55218  1555\n",
      "GREEN, DK     16080   501\n",
      "GREEN, LGT     8562   235\n",
      "MAROON        26723   776\n",
      "MULTICOLOR     1130    99\n",
      "ORANGE         5567   134\n",
      "PINK            223     0\n",
      "PURPLE         2954    87\n",
      "RED          123191  3240\n",
      "SILVER       291298  6982\n",
      "TAN           31027   865\n",
      "WHITE        249892  6178\n",
      "YELLOW         5743   278\n"
     ]
    }
   ],
   "source": [
    "contingency_table = pd.crosstab(data['Color'], data['Accident'])\n",
    "print('contingency_table :-\\n', contingency_table)"
   ]
  },
  {
   "cell_type": "code",
   "execution_count": 35,
   "metadata": {},
   "outputs": [
    {
     "name": "stdout",
     "output_type": "stream",
     "text": [
      "Observed Values :-\n",
      " [[ 17403    462]\n",
      " [327580   7426]\n",
      " [116152   3097]\n",
      " [ 33520    908]\n",
      " [ 20188    520]\n",
      " [  3622     85]\n",
      " [  7122    202]\n",
      " [    34      0]\n",
      " [    40      1]\n",
      " [   494      4]\n",
      " [   926     25]\n",
      " [ 48152   1222]\n",
      " [181708   4450]\n",
      " [ 55218   1555]\n",
      " [ 16080    501]\n",
      " [  8562    235]\n",
      " [ 26723    776]\n",
      " [  1130     99]\n",
      " [  5567    134]\n",
      " [   223      0]\n",
      " [  2954     87]\n",
      " [123191   3240]\n",
      " [291298   6982]\n",
      " [ 31027    865]\n",
      " [249892   6178]\n",
      " [  5743    278]]\n"
     ]
    }
   ],
   "source": [
    "Observed_Values = contingency_table.values\n",
    "print(\"Observed Values :-\\n\",Observed_Values)\n"
   ]
  },
  {
   "cell_type": "code",
   "execution_count": 36,
   "metadata": {},
   "outputs": [
    {
     "name": "stdout",
     "output_type": "stream",
     "text": [
      "Expected Values :-\n",
      " [[1.74296109e+04 4.35389090e+02]\n",
      " [3.26841547e+05 8.16445326e+03]\n",
      " [1.16342775e+05 2.90622522e+03]\n",
      " [3.35889529e+04 8.39047052e+02]\n",
      " [2.02033240e+04 5.04676030e+02]\n",
      " [3.61665646e+03 9.03435408e+01]\n",
      " [7.14550631e+03 1.78493686e+02]\n",
      " [3.31713838e+01 8.28616236e-01]\n",
      " [4.00007863e+01 9.99213697e-01]\n",
      " [4.85863209e+02 1.21367908e+01]\n",
      " [9.27823116e+02 2.31768835e+01]\n",
      " [4.81707030e+04 1.20329700e+03]\n",
      " [1.81621131e+05 4.53686886e+03]\n",
      " [5.53893815e+04 1.38361852e+03]\n",
      " [1.61769034e+04 4.04096642e+02]\n",
      " [8.58260773e+03 2.14392266e+02]\n",
      " [2.68288201e+04 6.70179938e+02]\n",
      " [1.19904796e+03 2.99520398e+01]\n",
      " [5.56206055e+03 1.38939446e+02]\n",
      " [2.17565252e+02 5.43474767e+00]\n",
      " [2.96688759e+03 7.41124110e+01]\n",
      " [1.23349742e+05 3.08125822e+03]\n",
      " [2.91010599e+05 7.26940150e+03]\n",
      " [3.11147580e+04 7.77242030e+02]\n",
      " [2.49829301e+05 6.24069881e+03]\n",
      " [5.87426181e+03 1.46738187e+02]]\n"
     ]
    }
   ],
   "source": [
    "b=stats.chi2_contingency(contingency_table)\n",
    "Expected_Values = b[3]\n",
    "print(\"Expected Values :-\\n\",Expected_Values)"
   ]
  },
  {
   "cell_type": "code",
   "execution_count": 37,
   "metadata": {},
   "outputs": [
    {
     "name": "stdout",
     "output_type": "stream",
     "text": [
      "Degree of Freedom:- 1\n"
     ]
    }
   ],
   "source": [
    "no_of_rows=len(contingency_table.iloc[0:2,0])\n",
    "no_of_columns=len(contingency_table.iloc[0,0:2])\n",
    "ddof=(no_of_rows-1)*(no_of_columns-1)\n",
    "print(\"Degree of Freedom:-\",ddof)\n",
    "alpha = 0.05"
   ]
  },
  {
   "cell_type": "code",
   "execution_count": 38,
   "metadata": {},
   "outputs": [
    {
     "name": "stdout",
     "output_type": "stream",
     "text": [
      "chi-square statistic:- 488.4484795288744\n"
     ]
    }
   ],
   "source": [
    "from scipy.stats import chi2\n",
    "chi_square=sum([(o-e)**2./e for o,e in zip(Observed_Values,Expected_Values)])\n",
    "chi_square_statistic=chi_square[0]+chi_square[1]\n",
    "print(\"chi-square statistic:-\",chi_square_statistic)"
   ]
  },
  {
   "cell_type": "code",
   "execution_count": 39,
   "metadata": {},
   "outputs": [
    {
     "name": "stdout",
     "output_type": "stream",
     "text": [
      "critical_value: 3.841458820694124\n"
     ]
    }
   ],
   "source": [
    "critical_value=chi2.ppf(q=1-alpha,df=ddof)\n",
    "print('critical_value:',critical_value)"
   ]
  },
  {
   "cell_type": "code",
   "execution_count": 40,
   "metadata": {},
   "outputs": [
    {
     "name": "stdout",
     "output_type": "stream",
     "text": [
      "p-value: 0.0\n"
     ]
    }
   ],
   "source": [
    "p_value=1-chi2.cdf(x=chi_square_statistic,df=ddof)\n",
    "print('p-value:',p_value)"
   ]
  },
  {
   "cell_type": "code",
   "execution_count": 41,
   "metadata": {},
   "outputs": [
    {
     "name": "stdout",
     "output_type": "stream",
     "text": [
      "Significance level:  0.05\n",
      "Degree of Freedom:  1\n",
      "chi-square statistic: 488.4484795288744\n",
      "critical_value: 3.841458820694124\n",
      "p-value: 0.0\n"
     ]
    }
   ],
   "source": [
    "print('Significance level: ',alpha)\n",
    "print('Degree of Freedom: ',ddof)\n",
    "print('chi-square statistic:',chi_square_statistic)\n",
    "print('critical_value:',critical_value)\n",
    "print('p-value:',p_value)"
   ]
  },
  {
   "cell_type": "code",
   "execution_count": 42,
   "metadata": {},
   "outputs": [
    {
     "name": "stdout",
     "output_type": "stream",
     "text": [
      "Reject H0,There is a relationship between 2 categorical variables\n",
      "Reject H0,There is a relationship between 2 categorical variables\n"
     ]
    }
   ],
   "source": [
    "if chi_square_statistic>=critical_value:\n",
    "    print(\"Reject H0,There is a relationship between 2 categorical variables\")\n",
    "else:\n",
    "    print(\"Retain H0,There is no relationship between 2 categorical variables\")\n",
    "    \n",
    "if p_value<=alpha:\n",
    "    print(\"Reject H0,There is a relationship between 2 categorical variables\")\n",
    "else:\n",
    "    print(\"Retain H0,There is no relationship between 2 categorical variables\")"
   ]
  },
  {
   "cell_type": "markdown",
   "metadata": {},
   "source": [
    "Based on the testing, the Null Hypothesis is rejected. Therefore taking the Alternative Hypothesis certain colors of Automobiles show a higher likelihood for getting in an accident.\n"
   ]
  },
  {
   "cell_type": "code",
   "execution_count": null,
   "metadata": {},
   "outputs": [],
   "source": []
  },
  {
   "cell_type": "markdown",
   "metadata": {},
   "source": [
    "**Null Hypothesis:  **\n",
    "There is no statistical significance in the likelihood of an Automobile getting into an accident related to the month.\n",
    "\n",
    "**Alternative Hypothesis:**\n",
    "Certain months of the year show a greater or reduced likelihood for an Automobile to get into an accident. "
   ]
  },
  {
   "cell_type": "code",
   "execution_count": 43,
   "metadata": {},
   "outputs": [],
   "source": [
    "hyp_test = year_month_count.reset_index()"
   ]
  },
  {
   "cell_type": "code",
   "execution_count": 44,
   "metadata": {},
   "outputs": [
    {
     "name": "stdout",
     "output_type": "stream",
     "text": [
      "6.672627141580349e-69\n",
      "reject null hypothesis\n"
     ]
    }
   ],
   "source": [
    "hyp_test[['Month', 'count']].describe()\n",
    "ttest,pval = stats.ttest_rel(hyp_test['Month'], hyp_test['count'])\n",
    "\n",
    "#df[['bp_before','bp_after']].describe()\n",
    "#ttest,pval = stats.ttest_rel(df['bp_before'], df['bp_after'])\n",
    "print(pval)\n",
    "\n",
    "if pval<0.05:\n",
    "    print(\"reject null hypothesis\")\n",
    "else:\n",
    "    print(\"accept null hypothesis\")"
   ]
  },
  {
   "cell_type": "markdown",
   "metadata": {},
   "source": [
    "The test shows to reject the null hypothesis.  Therefore certain months of the year do show a greater or reduced likelihood for an Automobile to get in an accident.  "
   ]
  },
  {
   "cell_type": "code",
   "execution_count": null,
   "metadata": {},
   "outputs": [],
   "source": []
  },
  {
   "cell_type": "code",
   "execution_count": null,
   "metadata": {},
   "outputs": [],
   "source": []
  },
  {
   "cell_type": "code",
   "execution_count": null,
   "metadata": {},
   "outputs": [],
   "source": []
  },
  {
   "cell_type": "code",
   "execution_count": null,
   "metadata": {},
   "outputs": [],
   "source": []
  },
  {
   "cell_type": "code",
   "execution_count": null,
   "metadata": {},
   "outputs": [],
   "source": []
  },
  {
   "cell_type": "markdown",
   "metadata": {},
   "source": [
    "**ML Class Imbalance**"
   ]
  },
  {
   "cell_type": "markdown",
   "metadata": {},
   "source": [
    "**Below are studies to look at classification techniques common in Machine Learning.  It is interesting to look at what a decision tree will show, in addition to a binary linear regression and heat map.  **"
   ]
  },
  {
   "cell_type": "code",
   "execution_count": 45,
   "metadata": {},
   "outputs": [],
   "source": [
    "categorical_values_accident= data.loc[(data['VehicleType'] == '02 - Automobile') & (data['Accident'] == 'Yes'), ['Color','Race','Gender','Accident','Alcohol','Belts','Personal Injury','Property Damage','Fatal','Commercial License','HAZMAT','Commercial Vehicle','Work Zone']]\n",
    "categorical_values_no_accident= data.loc[(data['VehicleType'] == '02 - Automobile') & (data['Accident'] == 'No'), ['Color','Race','Gender','Accident','Alcohol','Belts','Personal Injury','Property Damage','Fatal','Commercial License','HAZMAT','Commercial Vehicle','Work Zone']]"
   ]
  },
  {
   "cell_type": "code",
   "execution_count": 46,
   "metadata": {},
   "outputs": [
    {
     "data": {
      "text/plain": [
       "No     34796\n",
       "Yes    34796\n",
       "Name: Accident, dtype: int64"
      ]
     },
     "execution_count": 46,
     "metadata": {},
     "output_type": "execute_result"
    }
   ],
   "source": [
    "categorical_values_accident = categorical_values_accident.dropna()\n",
    "categorical_values_no_accident = categorical_values_no_accident.dropna()\n",
    "length_accident=len(categorical_values_accident)\n",
    "length_no_accident=len(categorical_values_no_accident)\n",
    "random_index= np.random.randint(0, length_no_accident, size=(1,length_accident))\n",
    "# random_index[0]\n",
    "categorical_values_no_accident = categorical_values_no_accident.iloc[random_index[0]]\n",
    "categorical_values = pd.concat([categorical_values_no_accident, categorical_values_accident])\n",
    "categorical_values['Accident'].value_counts()"
   ]
  },
  {
   "cell_type": "markdown",
   "metadata": {},
   "source": [
    "https://www.datacamp.com/community/tutorials/understanding-logistic-regression-python"
   ]
  },
  {
   "cell_type": "code",
   "execution_count": 47,
   "metadata": {},
   "outputs": [],
   "source": [
    "#https://www.datacamp.com/community/tutorials/decision-tree-classification-python\n",
    "from sklearn import datasets\n",
    "from sklearn import svm\n",
    "from sklearn.tree import DecisionTreeClassifier # Import Decision Tree Classifier\n",
    "from sklearn.model_selection import train_test_split # Import train_test_split function\n",
    "from sklearn import metrics #Import scikit-learn metrics module for accuracy calculation\n"
   ]
  },
  {
   "cell_type": "code",
   "execution_count": 48,
   "metadata": {},
   "outputs": [],
   "source": [
    "#https://www.datacamp.com/community/tutorials/understanding-logistic-regression-python\n",
    "\n",
    "\n",
    "#your old value(string) and value is your new value(integer).\n",
    "Accident = {'Yes': 1, 'No': 0}\n",
    "#Assign these different key-value pair from above dictiionary to your table\n",
    "categorical_values.Accident = [Accident[item] for item in categorical_values.Accident]\n",
    "\n",
    "\n",
    "##https://www.tutorialspoint.com/replacing-strings-with-numbers-in-python-for-data-analysis"
   ]
  },
  {
   "cell_type": "code",
   "execution_count": 49,
   "metadata": {},
   "outputs": [
    {
     "data": {
      "text/plain": [
       "1    34796\n",
       "0    34796\n",
       "Name: Accident, dtype: int64"
      ]
     },
     "execution_count": 49,
     "metadata": {},
     "output_type": "execute_result"
    }
   ],
   "source": [
    "categorical_values = categorical_values.dropna()\n",
    "categorical_values.count()\n",
    "categorical_values#split dataset in features and target variable\n",
    "categorical_values['Accident'].value_counts()"
   ]
  },
  {
   "cell_type": "code",
   "execution_count": 50,
   "metadata": {},
   "outputs": [],
   "source": [
    "#https://www.geeksforgeeks.org/ml-label-encoding-of-datasets-in-python/\n",
    "# Import label encoder\n",
    "from sklearn import preprocessing"
   ]
  },
  {
   "cell_type": "code",
   "execution_count": 51,
   "metadata": {},
   "outputs": [],
   "source": [
    "# label_encoder object knows how to understand word labels. \n",
    "label_encoder = preprocessing.LabelEncoder() \n",
    "\n",
    "# categorical_values['Color'].unique()\n",
    "# categorical_values['Color'].isnull().sum()\n",
    "# Encode labels in column \n",
    "categorical_values['Color']= label_encoder.fit_transform(categorical_values['Color']) \n",
    "categorical_values['Race']= label_encoder.fit_transform(categorical_values['Race']) \n",
    "categorical_values['Gender']= label_encoder.fit_transform(categorical_values['Gender'])\n",
    "categorical_values['Alcohol']= label_encoder.fit_transform(categorical_values['Alcohol'])\n",
    "categorical_values['Belts']= label_encoder.fit_transform(categorical_values['Belts'])\n",
    "categorical_values['Personal Injury']= label_encoder.fit_transform(categorical_values['Personal Injury']) \n",
    "categorical_values['Property Damage']= label_encoder.fit_transform(categorical_values['Property Damage']) \n",
    "categorical_values['Fatal']= label_encoder.fit_transform(categorical_values['Fatal']) \n",
    "categorical_values['Commercial License']= label_encoder.fit_transform(categorical_values['Commercial License']) \n",
    "categorical_values['HAZMAT']= label_encoder.fit_transform(categorical_values['HAZMAT']) \n",
    "categorical_values['Commercial Vehicle']= label_encoder.fit_transform(categorical_values['Commercial Vehicle']) \n",
    "categorical_values['Work Zone']= label_encoder.fit_transform(categorical_values['Work Zone'])"
   ]
  },
  {
   "cell_type": "code",
   "execution_count": 52,
   "metadata": {},
   "outputs": [],
   "source": [
    "#split dataset in features and target variable\n",
    "feature_cols = ['Color','Race','Gender','Alcohol','Belts','Personal Injury','Property Damage','Fatal','Commercial License','HAZMAT','Commercial Vehicle','Work Zone']\n",
    "X = categorical_values[feature_cols]\n",
    "y = categorical_values.Accident"
   ]
  },
  {
   "cell_type": "code",
   "execution_count": 53,
   "metadata": {},
   "outputs": [],
   "source": [
    "from sklearn import datasets\n",
    "from sklearn import svm\n",
    "# split X and y into training and testing sets\n",
    "from sklearn.model_selection import train_test_split\n",
    "X_train,X_test,y_train,y_test=train_test_split(X,y,test_size=0.25,random_state=0)\n",
    "#Dataset is broken into two parts in a ratio of 75:25. \n",
    "#75% data will be used for model training and 25% for model testing."
   ]
  },
  {
   "cell_type": "code",
   "execution_count": 54,
   "metadata": {},
   "outputs": [
    {
     "data": {
      "text/plain": [
       "626328"
      ]
     },
     "execution_count": 54,
     "metadata": {},
     "output_type": "execute_result"
    }
   ],
   "source": [
    "X_train.size"
   ]
  },
  {
   "cell_type": "code",
   "execution_count": 55,
   "metadata": {},
   "outputs": [
    {
     "data": {
      "text/plain": [
       "208776"
      ]
     },
     "execution_count": 55,
     "metadata": {},
     "output_type": "execute_result"
    }
   ],
   "source": [
    "X_test.size"
   ]
  },
  {
   "cell_type": "code",
   "execution_count": 56,
   "metadata": {},
   "outputs": [
    {
     "data": {
      "text/plain": [
       "52194"
      ]
     },
     "execution_count": 56,
     "metadata": {},
     "output_type": "execute_result"
    }
   ],
   "source": [
    "y_train.size"
   ]
  },
  {
   "cell_type": "code",
   "execution_count": 57,
   "metadata": {},
   "outputs": [
    {
     "data": {
      "text/plain": [
       "17398"
      ]
     },
     "execution_count": 57,
     "metadata": {},
     "output_type": "execute_result"
    }
   ],
   "source": [
    "y_test.size"
   ]
  },
  {
   "cell_type": "code",
   "execution_count": 58,
   "metadata": {},
   "outputs": [],
   "source": [
    "# import the class\n",
    "from sklearn.linear_model import LogisticRegression"
   ]
  },
  {
   "cell_type": "code",
   "execution_count": 59,
   "metadata": {},
   "outputs": [],
   "source": [
    "# instantiate the model (using the default parameters)\n",
    "logreg = LogisticRegression(max_iter=1000)"
   ]
  },
  {
   "cell_type": "code",
   "execution_count": 60,
   "metadata": {},
   "outputs": [
    {
     "name": "stderr",
     "output_type": "stream",
     "text": [
      "/opt/conda/lib/python3.6/site-packages/sklearn/linear_model/logistic.py:432: FutureWarning: Default solver will be changed to 'lbfgs' in 0.22. Specify a solver to silence this warning.\n",
      "  FutureWarning)\n"
     ]
    },
    {
     "data": {
      "text/plain": [
       "LogisticRegression(C=1.0, class_weight=None, dual=False, fit_intercept=True,\n",
       "                   intercept_scaling=1, l1_ratio=None, max_iter=1000,\n",
       "                   multi_class='warn', n_jobs=None, penalty='l2',\n",
       "                   random_state=None, solver='warn', tol=0.0001, verbose=0,\n",
       "                   warm_start=False)"
      ]
     },
     "execution_count": 60,
     "metadata": {},
     "output_type": "execute_result"
    }
   ],
   "source": [
    "# fit the model with data\n",
    "logreg.fit(X_train,y_train)"
   ]
  },
  {
   "cell_type": "code",
   "execution_count": 61,
   "metadata": {},
   "outputs": [],
   "source": [
    "y_pred=logreg.predict(X_test)"
   ]
  },
  {
   "cell_type": "code",
   "execution_count": 62,
   "metadata": {},
   "outputs": [
    {
     "data": {
      "text/plain": [
       "array([[8422,  144],\n",
       "       [3815, 5017]])"
      ]
     },
     "execution_count": 62,
     "metadata": {},
     "output_type": "execute_result"
    }
   ],
   "source": [
    "# import the metrics class\n",
    "from sklearn import metrics\n",
    "cnf_matrix = metrics.confusion_matrix(y_test, y_pred)\n",
    "cnf_matrix"
   ]
  },
  {
   "cell_type": "code",
   "execution_count": 63,
   "metadata": {},
   "outputs": [
    {
     "data": {
      "text/plain": [
       "0.7724451086331763"
      ]
     },
     "execution_count": 63,
     "metadata": {},
     "output_type": "execute_result"
    }
   ],
   "source": [
    "classification_accuracy = metrics.accuracy_score(y_test, y_pred)\n",
    "classification_accuracy"
   ]
  },
  {
   "cell_type": "code",
   "execution_count": 64,
   "metadata": {},
   "outputs": [],
   "source": [
    "import seaborn as sns"
   ]
  },
  {
   "cell_type": "code",
   "execution_count": 65,
   "metadata": {},
   "outputs": [
    {
     "data": {
      "text/plain": [
       "<matplotlib.axes._subplots.AxesSubplot at 0x7fe4abc5c860>"
      ]
     },
     "execution_count": 65,
     "metadata": {},
     "output_type": "execute_result"
    },
    {
     "data": {
      "image/png": "[encoded data removed]",
      "text/plain": [
       "<Figure size 432x288 with 2 Axes>"
      ]
     },
     "metadata": {
      "needs_background": "light"
     },
     "output_type": "display_data"
    }
   ],
   "source": [
    "sns.heatmap(cnf_matrix, annot = True, fmt = 'g', cmap = 'Blues')\n",
    "#Visualize the confusion matrix using a heatmap"
   ]
  },
  {
   "cell_type": "code",
   "execution_count": 66,
   "metadata": {},
   "outputs": [
    {
     "name": "stdout",
     "output_type": "stream",
     "text": [
      "Accuracy: 0.7724451086331763\n",
      "Precision: 0.9720984305367177\n",
      "Recall: 0.5680480072463768\n"
     ]
    }
   ],
   "source": [
    "print(\"Accuracy:\",metrics.accuracy_score(y_test, y_pred))\n",
    "print(\"Precision:\",metrics.precision_score(y_test, y_pred))\n",
    "print(\"Recall:\",metrics.recall_score(y_test, y_pred))\n",
    "#https://www.datacamp.com/community/tutorials/understanding-logistic-regression-python"
   ]
  },
  {
   "cell_type": "markdown",
   "metadata": {},
   "source": [
    "**Visualize the confusion matrix using a heatmap**\n",
    "The classification rate is around 77%, which is a good accuracy.\n",
    "The precision, or how often the model is correct, predicts that automobiles will or will not get in accidents 95.9% of the time.\n",
    "If there are automobiles that will or will not get in accidents, this Logistic Regression model can identify it 57.7% of the time."
   ]
  },
  {
   "cell_type": "code",
   "execution_count": null,
   "metadata": {},
   "outputs": [],
   "source": []
  },
  {
   "cell_type": "code",
   "execution_count": 67,
   "metadata": {},
   "outputs": [],
   "source": [
    "#https://machinelearningmastery.com/roc-curves-and-precision-recall-curves-for-classification-in-python/\n",
    "# precision-recall curve and f1\n",
    "from sklearn.datasets import make_classification\n",
    "from sklearn.linear_model import LogisticRegression\n",
    "from sklearn.model_selection import train_test_split\n",
    "from sklearn.metrics import precision_recall_curve\n",
    "from sklearn.metrics import f1_score\n",
    "from sklearn.metrics import auc\n",
    "from sklearn.metrics import roc_curve\n",
    "#from matplotlib import pyplot"
   ]
  },
  {
   "cell_type": "code",
   "execution_count": 68,
   "metadata": {},
   "outputs": [],
   "source": [
    "lr_probs = logreg.predict_proba(X_test)\n",
    "# keep probabilities for the positive outcome only\n",
    "lr_probs = lr_probs[:, 1]\n",
    "lr_fpr, lr_tpr, _ = roc_curve(y_test, lr_probs)"
   ]
  },
  {
   "cell_type": "code",
   "execution_count": 69,
   "metadata": {},
   "outputs": [
    {
     "data": {
      "image/png": "[encoded data removed]",
      "text/plain": [
       "<Figure size 432x288 with 1 Axes>"
      ]
     },
     "metadata": {
      "needs_background": "light"
     },
     "output_type": "display_data"
    }
   ],
   "source": [
    "#predict using the predict_proba function\n",
    "#pass the labels and predict_proba into the roc_curve function\n",
    "#plot ROC curve\n",
    "_ = plt.plot(lr_fpr, lr_tpr)\n",
    "_ = plt.xlabel('False Positive Rate')\n",
    "_ = plt.ylabel('True Positive Rate')\n",
    "_ = plt.title('ROC Curve')\n"
   ]
  },
  {
   "cell_type": "markdown",
   "metadata": {},
   "source": [
    "**ROC Curve**\n",
    "This model is doing better than a random model.\n",
    "Other models may find potentially a better ROC curve."
   ]
  },
  {
   "cell_type": "code",
   "execution_count": null,
   "metadata": {},
   "outputs": [],
   "source": []
  },
  {
   "cell_type": "code",
   "execution_count": 70,
   "metadata": {},
   "outputs": [
    {
     "data": {
      "text/plain": [
       "array([[8312,  254],\n",
       "       [3687, 5145]])"
      ]
     },
     "execution_count": 70,
     "metadata": {},
     "output_type": "execute_result"
    }
   ],
   "source": [
    "#https://www.datacamp.com/community/tutorials/decision-tree-classification-python\n",
    "# Create Decision Tree classifer object\n",
    "clf = DecisionTreeClassifier()\n",
    "\n",
    "# Train Decision Tree Classifer\n",
    "clf = clf.fit(X_train,y_train)\n",
    "\n",
    "#Predict the response for test dataset\n",
    "y_pred = clf.predict(X_test)\n",
    "\n",
    "cnf_matrix = metrics.confusion_matrix(y_test, y_pred)\n",
    "cnf_matrix"
   ]
  },
  {
   "cell_type": "code",
   "execution_count": 71,
   "metadata": {},
   "outputs": [
    {
     "name": "stdout",
     "output_type": "stream",
     "text": [
      "Classification Accuracy: 0.7734797103115301\n"
     ]
    }
   ],
   "source": [
    "classification_accuracy = metrics.accuracy_score(y_test, y_pred)\n",
    "print(\"Classification Accuracy:\",metrics.accuracy_score(y_test, y_pred))"
   ]
  },
  {
   "cell_type": "code",
   "execution_count": 72,
   "metadata": {},
   "outputs": [
    {
     "name": "stderr",
     "output_type": "stream",
     "text": [
      "/opt/conda/lib/python3.6/site-packages/sklearn/externals/six.py:31: DeprecationWarning: The module is deprecated in version 0.21 and will be removed in version 0.23 since we've dropped support for Python 2.7. Please rely on the official version of six (https://pypi.org/project/six/).\n",
      "  \"(https://pypi.org/project/six/).\", DeprecationWarning)\n"
     ]
    }
   ],
   "source": [
    "from sklearn.tree import export_graphviz\n",
    "from sklearn.externals.six import StringIO  \n",
    "from IPython.display import Image  \n",
    "from graphviz import Source\n",
    "from sklearn import tree"
   ]
  },
  {
   "cell_type": "code",
   "execution_count": 73,
   "metadata": {},
   "outputs": [
    {
     "data": {
      "image/png": "[encoded data removed]",
      "text/plain": [
       "<IPython.core.display.Image object>"
      ]
     },
     "execution_count": 73,
     "metadata": {},
     "output_type": "execute_result"
    }
   ],
   "source": [
    "\n",
    "graph = Source(tree.export_graphviz(clf, out_file=None,\n",
    "                                    filled=True, rounded=True, special_characters=False,\n",
    "                                    max_depth=3))\n",
    "png_data = graph.pipe(format='png')\n",
    "with open('dtree_structure.png','wb') as f:\n",
    "    f.write(png_data)\n",
    "\n",
    "Image(png_data)\n"
   ]
  },
  {
   "cell_type": "code",
   "execution_count": null,
   "metadata": {},
   "outputs": [],
   "source": []
  },
  {
   "cell_type": "markdown",
   "metadata": {},
   "source": [
    "Question:  Would grouping the colors of 'CREAM', 'MULTICOLOR', 'COPPER', 'PINK', 'CHROME', 'CAMOUFLAGE', \n",
    "into the category of 'Other' impact the viewers interpretation?  This was done due to those being more outliers and having low numbers.  "
   ]
  },
  {
   "cell_type": "code",
   "execution_count": 74,
   "metadata": {},
   "outputs": [
    {
     "data": {
      "text/plain": [
       "BLACK          296132\n",
       "SILVER         270899\n",
       "WHITE          200018\n",
       "GRAY           166136\n",
       "RED            109366\n",
       "BLUE           104305\n",
       "GREEN           49302\n",
       "GOLD            44366\n",
       "BLUE, DARK      29579\n",
       "TAN             28704\n",
       "MAROON          22952\n",
       "BLUE, LIGHT     18330\n",
       "BEIGE           16315\n",
       "GREEN, DK       13947\n",
       "GREEN, LGT       7604\n",
       "BROWN            6066\n",
       "ORANGE           4913\n",
       "YELLOW           4147\n",
       "BRONZE           3098\n",
       "PURPLE           2609\n",
       "OTHER            1977\n",
       "Name: Color, dtype: int64"
      ]
     },
     "execution_count": 74,
     "metadata": {},
     "output_type": "execute_result"
    }
   ],
   "source": [
    "final_color_no_accident_other = final_color_no_accident_no_null.copy()\n",
    "final_color_no_accident_other['Color'] = final_color_no_accident_other['Color'].replace(['CREAM', 'MULTICOLOR', 'COPPER', 'PINK', 'CHROME', 'CAMOUFLAGE'],'OTHER')\n",
    "final_color_no_accident_other.Color.value_counts()\n",
    "#Create new dataframe grouping very low numbered colors as one group called 'Other'\n",
    "#This was done to consider if it has any impact on displaying information more advantageously.\n",
    "#It does not do much in my opinion.  "
   ]
  },
  {
   "cell_type": "code",
   "execution_count": 75,
   "metadata": {},
   "outputs": [
    {
     "data": {
      "text/plain": [
       "BLACK          6788\n",
       "SILVER         6475\n",
       "WHITE          4903\n",
       "GRAY           4161\n",
       "RED            2824\n",
       "BLUE           2732\n",
       "GREEN          1379\n",
       "GOLD           1095\n",
       "BLUE, DARK      805\n",
       "TAN             799\n",
       "MAROON          706\n",
       "BLUE, LIGHT     448\n",
       "BEIGE           423\n",
       "GREEN, DK       421\n",
       "GREEN, LGT      227\n",
       "BROWN           180\n",
       "ORANGE          123\n",
       "YELLOW           87\n",
       "BRONZE           81\n",
       "PURPLE           74\n",
       "OTHER            65\n",
       "Name: Color, dtype: int64"
      ]
     },
     "execution_count": 75,
     "metadata": {},
     "output_type": "execute_result"
    }
   ],
   "source": [
    "final_color_accident_other = final_color_accident_no_null.copy()\n",
    "final_color_accident_other['Color'] = final_color_accident_other['Color'].replace(['CREAM', 'MULTICOLOR', 'COPPER', 'PINK', 'CHROME', 'CAMOUFLAGE'],'OTHER')\n",
    "final_color_accident_other.Color.value_counts()\n",
    "#Using the category of 'Other' for lower numbered color samples as a group\n",
    "#Looking to see how that impacts the numbers"
   ]
  },
  {
   "cell_type": "markdown",
   "metadata": {},
   "source": [
    "Answer:  Grouping the outliers into a category of 'Other' did not impact the viewers interpretation of how much greater the numbers in the popular colors are.  "
   ]
  },
  {
   "cell_type": "code",
   "execution_count": null,
   "metadata": {},
   "outputs": [],
   "source": []
  },
  {
   "cell_type": "code",
   "execution_count": null,
   "metadata": {},
   "outputs": [],
   "source": []
  },
  {
   "cell_type": "markdown",
   "metadata": {},
   "source": [
    ">Question: **Does alcohol appear to have any significance in traffic stops for automobiles in accidents?  **"
   ]
  },
  {
   "cell_type": "code",
   "execution_count": 76,
   "metadata": {},
   "outputs": [
    {
     "data": {
      "text/plain": [
       "BLACK          47\n",
       "GRAY           16\n",
       "BLUE           16\n",
       "TAN            14\n",
       "MAROON         13\n",
       "WHITE           7\n",
       "BLUE, LIGHT     1\n",
       "GOLD            1\n",
       "Name: Color, dtype: int64"
      ]
     },
     "execution_count": 76,
     "metadata": {},
     "output_type": "execute_result"
    }
   ],
   "source": [
    "autos_in_accidents_alcohol = data.loc[(data['VehicleType'] == '02 - Automobile') & (data['Accident'] == 'Yes') & (data['Alcohol'] == 'Yes'), ['Color', 'VehicleType', 'Accident', 'Alcohol']]\n",
    "##final set of colors, automobiles, that were in an accident\n",
    "autos_in_accidents_alcohol_no_null = autos_in_accidents_alcohol.dropna(axis = 0, subset = ['Color'])\n",
    "##drop any rows with a nan value for color\n",
    "autos_in_accidents_alcohol = autos_in_accidents_alcohol_no_null \n",
    "autos_in_accidents_alcohol.Color.value_counts()\n",
    "#Count the final set of colors for Automobiles in Accidents, that involved alcohol."
   ]
  },
  {
   "cell_type": "code",
   "execution_count": 77,
   "metadata": {},
   "outputs": [
    {
     "data": {
      "text/plain": [
       "BLACK          6788\n",
       "SILVER         6475\n",
       "WHITE          4903\n",
       "GRAY           4161\n",
       "RED            2824\n",
       "BLUE           2732\n",
       "GREEN          1379\n",
       "GOLD           1095\n",
       "BLUE, DARK      805\n",
       "TAN             799\n",
       "MAROON          706\n",
       "BLUE, LIGHT     448\n",
       "BEIGE           423\n",
       "GREEN, DK       421\n",
       "GREEN, LGT      227\n",
       "BROWN           180\n",
       "ORANGE          123\n",
       "YELLOW           87\n",
       "BRONZE           81\n",
       "PURPLE           74\n",
       "MULTICOLOR       40\n",
       "CREAM            20\n",
       "COPPER            4\n",
       "CHROME            1\n",
       "Name: Color, dtype: int64"
      ]
     },
     "execution_count": 77,
     "metadata": {},
     "output_type": "execute_result"
    }
   ],
   "source": [
    "final_color_accident_no_null.Color.value_counts()\n",
    "#Revisitng the count the final set of colors for Automobiles in Accidents."
   ]
  },
  {
   "cell_type": "code",
   "execution_count": 78,
   "metadata": {},
   "outputs": [
    {
     "data": {
      "text/plain": [
       "BLACK          0.135073\n",
       "GRAY           0.045982\n",
       "BLUE           0.045982\n",
       "TAN            0.040235\n",
       "MAROON         0.037361\n",
       "WHITE          0.020117\n",
       "BLUE, LIGHT    0.002874\n",
       "GOLD           0.002874\n",
       "Name: Color, dtype: float64"
      ]
     },
     "execution_count": 78,
     "metadata": {},
     "output_type": "execute_result"
    }
   ],
   "source": [
    "(autos_in_accidents_alcohol['Color'].value_counts()/final_color_accident_no_null['Color'].count())*100\n",
    "\n",
    "#Auto in accident with alcohol / Autos in accidents"
   ]
  },
  {
   "cell_type": "markdown",
   "metadata": {},
   "source": [
    "Answer:  **The percentage of vehicles in accidents that involved alcohol vs. vehicles in accidents in each color.  This is a small percentage.  For example, 47 out of 6,788 black automobiles in accidents involved alcohol.  There was a total of 302,920 black automobiles overall. "
   ]
  },
  {
   "cell_type": "markdown",
   "metadata": {},
   "source": [
    "\n",
    "Conclusion:\n",
    "Certain colors of vehicles have a slightly higher risk for being in an accident when looking at the percentages related to each individual color.  The risks overall vary by <1%, and therefore it doesn't seem a strong statement to make for clients to base decisions from.  \n",
    "Certain months of the years showed a variance in accidents that could vary by more than 200 compared to other months in the same year.  This merits further investigation by a client or company who wishes to use this information.  The weather may have played a factor or perhaps the economy.  \n",
    "\n"
   ]
  },
  {
   "cell_type": "markdown",
   "metadata": {},
   "source": []
  }
 ],
 "metadata": {
  "kernelspec": {
   "display_name": "Python 3",
   "language": "python",
   "name": "python3"
  },
  "language_info": {
   "codemirror_mode": {
    "name": "ipython",
    "version": 3
   },
   "file_extension": ".py",
   "mimetype": "text/x-python",
   "name": "python",
   "nbconvert_exporter": "python",
   "pygments_lexer": "ipython3",
   "version": "3.6.6"
  }
 },
 "nbformat": 4,
 "nbformat_minor": 1
}
